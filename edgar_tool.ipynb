{
 "cells": [
  {
   "cell_type": "code",
   "execution_count": 1,
   "metadata": {},
   "outputs": [],
   "source": [
    "import pandas as pd\n",
    "from edgar import *\n",
    "import yfinance as yf\n",
    "import numpy as np\n",
    "from bs4 import BeautifulSoup\n",
    "import requests"
   ]
  },
  {
   "cell_type": "markdown",
   "metadata": {},
   "source": [
    "### Scraping all of the necessairy data from wikipedia."
   ]
  },
  {
   "cell_type": "code",
   "execution_count": 2,
   "metadata": {},
   "outputs": [],
   "source": [
    "# The URL of the website I am looking for\n",
    "web_url = 'https://en.wikipedia.org/wiki/List_of_S%26P_500_companies'\n",
    "#I want the see the response of the host website so I can use BeautifulSoup package\n",
    "response = requests.get(web_url)\n",
    "#Creating the soup object where I am giving to it the response\n",
    "soup_ob = BeautifulSoup(response.content)\n",
    "#I am collecting all the HTML table data on the wikipedia page \n",
    "#and have noticed that the first table is the one I want\n",
    "data_table = soup_ob.find_all('table','wikitable')[0]\n",
    "# var. all_value contains the rowvalues of the companies\n",
    "all_value = data_table.find_all('tr')\n",
    "SP500 = pd.DataFrame(columns = ['Symbol','Security','Sector','Sub-Sector','HQ Location','CIK'])\n",
    "ix = 0\n",
    "for row in all_value[1:]:\n",
    "    values = row.find_all('td')\n",
    "    Symbol = values[0].text\n",
    "    Security = values[1].text\n",
    "    Sector = values[2].text\n",
    "    Sub_Sector = values[3].text\n",
    "    HQ = values[4].text\n",
    "    CIK = values[6].text\n",
    "    SP500.loc[ix] = [Symbol,Security,Sector,Sub_Sector,HQ,CIK]\n",
    "    ix +=1\n",
    "SP500['Symbol'] = SP500['Symbol'].str.replace('\\n','')"
   ]
  },
  {
   "cell_type": "code",
   "execution_count": 3,
   "metadata": {},
   "outputs": [
    {
     "data": {
      "text/html": [
       "<div>\n",
       "<style scoped>\n",
       "    .dataframe tbody tr th:only-of-type {\n",
       "        vertical-align: middle;\n",
       "    }\n",
       "\n",
       "    .dataframe tbody tr th {\n",
       "        vertical-align: top;\n",
       "    }\n",
       "\n",
       "    .dataframe thead th {\n",
       "        text-align: right;\n",
       "    }\n",
       "</style>\n",
       "<table border=\"1\" class=\"dataframe\">\n",
       "  <thead>\n",
       "    <tr style=\"text-align: right;\">\n",
       "      <th></th>\n",
       "      <th>Symbol</th>\n",
       "      <th>Security</th>\n",
       "      <th>Sector</th>\n",
       "      <th>Sub-Sector</th>\n",
       "      <th>HQ Location</th>\n",
       "      <th>CIK</th>\n",
       "    </tr>\n",
       "  </thead>\n",
       "  <tbody>\n",
       "    <tr>\n",
       "      <th>0</th>\n",
       "      <td>MMM</td>\n",
       "      <td>3M</td>\n",
       "      <td>Industrials</td>\n",
       "      <td>Industrial Conglomerates</td>\n",
       "      <td>Saint Paul, Minnesota</td>\n",
       "      <td>0000066740</td>\n",
       "    </tr>\n",
       "    <tr>\n",
       "      <th>1</th>\n",
       "      <td>AOS</td>\n",
       "      <td>A. O. Smith</td>\n",
       "      <td>Industrials</td>\n",
       "      <td>Building Products</td>\n",
       "      <td>Milwaukee, Wisconsin</td>\n",
       "      <td>0000091142</td>\n",
       "    </tr>\n",
       "    <tr>\n",
       "      <th>2</th>\n",
       "      <td>ABT</td>\n",
       "      <td>Abbott</td>\n",
       "      <td>Health Care</td>\n",
       "      <td>Health Care Equipment</td>\n",
       "      <td>North Chicago, Illinois</td>\n",
       "      <td>0000001800</td>\n",
       "    </tr>\n",
       "    <tr>\n",
       "      <th>3</th>\n",
       "      <td>ABBV</td>\n",
       "      <td>AbbVie</td>\n",
       "      <td>Health Care</td>\n",
       "      <td>Biotechnology</td>\n",
       "      <td>North Chicago, Illinois</td>\n",
       "      <td>0001551152</td>\n",
       "    </tr>\n",
       "    <tr>\n",
       "      <th>4</th>\n",
       "      <td>ACN</td>\n",
       "      <td>Accenture</td>\n",
       "      <td>Information Technology</td>\n",
       "      <td>IT Consulting &amp; Other Services</td>\n",
       "      <td>Dublin, Ireland</td>\n",
       "      <td>0001467373</td>\n",
       "    </tr>\n",
       "  </tbody>\n",
       "</table>\n",
       "</div>"
      ],
      "text/plain": [
       "  Symbol     Security                  Sector                      Sub-Sector  \\\n",
       "0    MMM           3M             Industrials        Industrial Conglomerates   \n",
       "1    AOS  A. O. Smith             Industrials               Building Products   \n",
       "2    ABT       Abbott             Health Care           Health Care Equipment   \n",
       "3   ABBV       AbbVie             Health Care                   Biotechnology   \n",
       "4    ACN    Accenture  Information Technology  IT Consulting & Other Services   \n",
       "\n",
       "               HQ Location         CIK  \n",
       "0    Saint Paul, Minnesota  0000066740  \n",
       "1     Milwaukee, Wisconsin  0000091142  \n",
       "2  North Chicago, Illinois  0000001800  \n",
       "3  North Chicago, Illinois  0001551152  \n",
       "4          Dublin, Ireland  0001467373  "
      ]
     },
     "execution_count": 3,
     "metadata": {},
     "output_type": "execute_result"
    }
   ],
   "source": [
    "SP500.head()"
   ]
  },
  {
   "cell_type": "markdown",
   "metadata": {},
   "source": [
    "### Setting my identity"
   ]
  },
  {
   "cell_type": "code",
   "execution_count": 4,
   "metadata": {},
   "outputs": [
    {
     "data": {
      "text/html": [
       "<pre style=\"white-space:pre;overflow-x:auto;line-height:normal;font-family:Menlo,'DejaVu Sans Mono',consolas,'Courier New',monospace\"><span style=\"color: #7fbfbf; text-decoration-color: #7fbfbf\">[10:03:40] </span><span style=\"color: #000080; text-decoration-color: #000080\">INFO    </span> Identity of the Edgar REST client set to <span style=\"font-weight: bold\">[</span>maseeh faizan maseehfaizan@gmail.com<span style=\"font-weight: bold\">]</span>     <a href=\"file:///Library/Frameworks/Python.framework/Versions/3.12/lib/python3.12/site-packages/edgar/core.py\" target=\"_blank\"><span style=\"color: #7f7f7f; text-decoration-color: #7f7f7f\">core.py</span></a><span style=\"color: #7f7f7f; text-decoration-color: #7f7f7f\">:</span><a href=\"file:///Library/Frameworks/Python.framework/Versions/3.12/lib/python3.12/site-packages/edgar/core.py#154\" target=\"_blank\"><span style=\"color: #7f7f7f; text-decoration-color: #7f7f7f\">154</span></a>\n",
       "</pre>\n"
      ],
      "text/plain": [
       "\u001b[2;36m[10:03:40]\u001b[0m\u001b[2;36m \u001b[0m\u001b[34mINFO    \u001b[0m Identity of the Edgar REST client set to \u001b[1m[\u001b[0mmaseeh faizan maseehfaizan@gmail.com\u001b[1m]\u001b[0m     \u001b]8;id=294328;file:///Library/Frameworks/Python.framework/Versions/3.12/lib/python3.12/site-packages/edgar/core.py\u001b\\\u001b[2mcore.py\u001b[0m\u001b]8;;\u001b\\\u001b[2m:\u001b[0m\u001b]8;id=189456;file:///Library/Frameworks/Python.framework/Versions/3.12/lib/python3.12/site-packages/edgar/core.py#154\u001b\\\u001b[2m154\u001b[0m\u001b]8;;\u001b\\\n"
      ]
     },
     "metadata": {},
     "output_type": "display_data"
    }
   ],
   "source": [
    "set_identity('maseeh faizan maseehfaizan@gmail.com')"
   ]
  },
  {
   "cell_type": "code",
   "execution_count": 5,
   "metadata": {},
   "outputs": [],
   "source": [
    "company = Company('AAPL')"
   ]
  },
  {
   "cell_type": "code",
   "execution_count": 14,
   "metadata": {},
   "outputs": [],
   "source": [
    "filings = company.get_filings(form = '10-K')\n",
    "df = filings.to_pandas()"
   ]
  },
  {
   "cell_type": "code",
   "execution_count": 18,
   "metadata": {},
   "outputs": [
    {
     "data": {
      "text/html": [
       "<div>\n",
       "<style scoped>\n",
       "    .dataframe tbody tr th:only-of-type {\n",
       "        vertical-align: middle;\n",
       "    }\n",
       "\n",
       "    .dataframe tbody tr th {\n",
       "        vertical-align: top;\n",
       "    }\n",
       "\n",
       "    .dataframe thead th {\n",
       "        text-align: right;\n",
       "    }\n",
       "</style>\n",
       "<table border=\"1\" class=\"dataframe\">\n",
       "  <thead>\n",
       "    <tr style=\"text-align: right;\">\n",
       "      <th></th>\n",
       "      <th>accession_number</th>\n",
       "      <th>filing_date</th>\n",
       "      <th>reportDate</th>\n",
       "      <th>acceptanceDateTime</th>\n",
       "      <th>act</th>\n",
       "      <th>form</th>\n",
       "      <th>fileNumber</th>\n",
       "      <th>items</th>\n",
       "      <th>size</th>\n",
       "      <th>isXBRL</th>\n",
       "      <th>isInlineXBRL</th>\n",
       "      <th>primaryDocument</th>\n",
       "      <th>primaryDocDescription</th>\n",
       "    </tr>\n",
       "  </thead>\n",
       "  <tbody>\n",
       "    <tr>\n",
       "      <th>0</th>\n",
       "      <td>0000320193-23-000106</td>\n",
       "      <td>2023-11-03</td>\n",
       "      <td>2023-09-30</td>\n",
       "      <td>2023-11-02T18:08:27.000Z</td>\n",
       "      <td>34</td>\n",
       "      <td>10-K</td>\n",
       "      <td>001-36743</td>\n",
       "      <td></td>\n",
       "      <td>9569569</td>\n",
       "      <td>1</td>\n",
       "      <td>1</td>\n",
       "      <td>aapl-20230930.htm</td>\n",
       "      <td>10-K</td>\n",
       "    </tr>\n",
       "    <tr>\n",
       "      <th>1</th>\n",
       "      <td>0000320193-22-000108</td>\n",
       "      <td>2022-10-28</td>\n",
       "      <td>2022-09-24</td>\n",
       "      <td>2022-10-27T18:01:14.000Z</td>\n",
       "      <td>34</td>\n",
       "      <td>10-K</td>\n",
       "      <td>001-36743</td>\n",
       "      <td></td>\n",
       "      <td>10332356</td>\n",
       "      <td>1</td>\n",
       "      <td>1</td>\n",
       "      <td>aapl-20220924.htm</td>\n",
       "      <td>10-K</td>\n",
       "    </tr>\n",
       "    <tr>\n",
       "      <th>2</th>\n",
       "      <td>0000320193-21-000105</td>\n",
       "      <td>2021-10-29</td>\n",
       "      <td>2021-09-25</td>\n",
       "      <td>2021-10-28T18:04:28.000Z</td>\n",
       "      <td>34</td>\n",
       "      <td>10-K</td>\n",
       "      <td>001-36743</td>\n",
       "      <td></td>\n",
       "      <td>10502096</td>\n",
       "      <td>1</td>\n",
       "      <td>1</td>\n",
       "      <td>aapl-20210925.htm</td>\n",
       "      <td>10-K</td>\n",
       "    </tr>\n",
       "    <tr>\n",
       "      <th>3</th>\n",
       "      <td>0000320193-20-000096</td>\n",
       "      <td>2020-10-30</td>\n",
       "      <td>2020-09-26</td>\n",
       "      <td>2020-10-29T18:06:25.000Z</td>\n",
       "      <td>34</td>\n",
       "      <td>10-K</td>\n",
       "      <td>001-36743</td>\n",
       "      <td></td>\n",
       "      <td>12502600</td>\n",
       "      <td>1</td>\n",
       "      <td>1</td>\n",
       "      <td>aapl-20200926.htm</td>\n",
       "      <td>10-K</td>\n",
       "    </tr>\n",
       "    <tr>\n",
       "      <th>4</th>\n",
       "      <td>0000320193-19-000119</td>\n",
       "      <td>2019-10-31</td>\n",
       "      <td>2019-09-28</td>\n",
       "      <td>2019-10-30T18:12:36.000Z</td>\n",
       "      <td>34</td>\n",
       "      <td>10-K</td>\n",
       "      <td>001-36743</td>\n",
       "      <td></td>\n",
       "      <td>12861616</td>\n",
       "      <td>1</td>\n",
       "      <td>1</td>\n",
       "      <td>a10-k20199282019.htm</td>\n",
       "      <td>10-K</td>\n",
       "    </tr>\n",
       "  </tbody>\n",
       "</table>\n",
       "</div>"
      ],
      "text/plain": [
       "       accession_number filing_date  reportDate        acceptanceDateTime act  \\\n",
       "0  0000320193-23-000106  2023-11-03  2023-09-30  2023-11-02T18:08:27.000Z  34   \n",
       "1  0000320193-22-000108  2022-10-28  2022-09-24  2022-10-27T18:01:14.000Z  34   \n",
       "2  0000320193-21-000105  2021-10-29  2021-09-25  2021-10-28T18:04:28.000Z  34   \n",
       "3  0000320193-20-000096  2020-10-30  2020-09-26  2020-10-29T18:06:25.000Z  34   \n",
       "4  0000320193-19-000119  2019-10-31  2019-09-28  2019-10-30T18:12:36.000Z  34   \n",
       "\n",
       "   form fileNumber items      size  isXBRL  isInlineXBRL  \\\n",
       "0  10-K  001-36743         9569569       1             1   \n",
       "1  10-K  001-36743        10332356       1             1   \n",
       "2  10-K  001-36743        10502096       1             1   \n",
       "3  10-K  001-36743        12502600       1             1   \n",
       "4  10-K  001-36743        12861616       1             1   \n",
       "\n",
       "        primaryDocument primaryDocDescription  \n",
       "0     aapl-20230930.htm                  10-K  \n",
       "1     aapl-20220924.htm                  10-K  \n",
       "2     aapl-20210925.htm                  10-K  \n",
       "3     aapl-20200926.htm                  10-K  \n",
       "4  a10-k20199282019.htm                  10-K  "
      ]
     },
     "execution_count": 18,
     "metadata": {},
     "output_type": "execute_result"
    }
   ],
   "source": [
    "df.head()"
   ]
  }
 ],
 "metadata": {
  "kernelspec": {
   "display_name": "Python 3",
   "language": "python",
   "name": "python3"
  },
  "language_info": {
   "codemirror_mode": {
    "name": "ipython",
    "version": 3
   },
   "file_extension": ".py",
   "mimetype": "text/x-python",
   "name": "python",
   "nbconvert_exporter": "python",
   "pygments_lexer": "ipython3",
   "version": "3.12.2"
  }
 },
 "nbformat": 4,
 "nbformat_minor": 2
}
