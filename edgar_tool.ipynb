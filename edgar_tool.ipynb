{
 "cells": [
  {
   "cell_type": "code",
   "execution_count": 2,
   "metadata": {},
   "outputs": [],
   "source": [
    "import pandas as pd\n",
    "from edgar import *\n",
    "import yfinance as yf\n",
    "import numpy as np\n",
    "from bs4 import BeautifulSoup\n",
    "import requests"
   ]
  },
  {
   "cell_type": "markdown",
   "metadata": {},
   "source": [
    "### Scraping all of the necessairy data from wikipedia."
   ]
  },
  {
   "cell_type": "code",
   "execution_count": 3,
   "metadata": {},
   "outputs": [],
   "source": [
    "# The URL of the website I am looking for\n",
    "web_url = 'https://en.wikipedia.org/wiki/List_of_S%26P_500_companies'\n",
    "#I want the see the response of the host website so I can use BeautifulSoup package\n",
    "response = requests.get(web_url)\n",
    "#Creating the soup object where I am giving to it the response\n",
    "soup_ob = BeautifulSoup(response.content)\n",
    "#I am collecting all the HTML table data on the wikipedia page \n",
    "#and have noticed that the first table is the one I want\n",
    "data_table = soup_ob.find_all('table','wikitable')[0]\n",
    "# var. all_value contains the rowvalues of the companies\n",
    "all_value = data_table.find_all('tr')\n",
    "SP500 = pd.DataFrame(columns = ['Symbol','Security','Sector','Sub-Sector','HQ Location','CIK'])\n",
    "ix = 0\n",
    "for row in all_value[1:]:\n",
    "    values = row.find_all('td')\n",
    "    Symbol = values[0].text\n",
    "    Security = values[1].text\n",
    "    Sector = values[2].text\n",
    "    Sub_Sector = values[3].text\n",
    "    HQ = values[4].text\n",
    "    CIK = values[6].text\n",
    "    SP500.loc[ix] = [Symbol,Security,Sector,Sub_Sector,HQ,CIK]\n",
    "    ix +=1\n",
    "SP500['Symbol'] = SP500['Symbol'].str.replace('\\n','')"
   ]
  },
  {
   "cell_type": "code",
   "execution_count": 4,
   "metadata": {},
   "outputs": [
    {
     "data": {
      "text/html": [
       "<div>\n",
       "<style scoped>\n",
       "    .dataframe tbody tr th:only-of-type {\n",
       "        vertical-align: middle;\n",
       "    }\n",
       "\n",
       "    .dataframe tbody tr th {\n",
       "        vertical-align: top;\n",
       "    }\n",
       "\n",
       "    .dataframe thead th {\n",
       "        text-align: right;\n",
       "    }\n",
       "</style>\n",
       "<table border=\"1\" class=\"dataframe\">\n",
       "  <thead>\n",
       "    <tr style=\"text-align: right;\">\n",
       "      <th></th>\n",
       "      <th>Symbol</th>\n",
       "      <th>Security</th>\n",
       "      <th>Sector</th>\n",
       "      <th>Sub-Sector</th>\n",
       "      <th>HQ Location</th>\n",
       "      <th>CIK</th>\n",
       "    </tr>\n",
       "  </thead>\n",
       "  <tbody>\n",
       "    <tr>\n",
       "      <th>0</th>\n",
       "      <td>MMM</td>\n",
       "      <td>3M</td>\n",
       "      <td>Industrials</td>\n",
       "      <td>Industrial Conglomerates</td>\n",
       "      <td>Saint Paul, Minnesota</td>\n",
       "      <td>0000066740</td>\n",
       "    </tr>\n",
       "    <tr>\n",
       "      <th>1</th>\n",
       "      <td>AOS</td>\n",
       "      <td>A. O. Smith</td>\n",
       "      <td>Industrials</td>\n",
       "      <td>Building Products</td>\n",
       "      <td>Milwaukee, Wisconsin</td>\n",
       "      <td>0000091142</td>\n",
       "    </tr>\n",
       "    <tr>\n",
       "      <th>2</th>\n",
       "      <td>ABT</td>\n",
       "      <td>Abbott</td>\n",
       "      <td>Health Care</td>\n",
       "      <td>Health Care Equipment</td>\n",
       "      <td>North Chicago, Illinois</td>\n",
       "      <td>0000001800</td>\n",
       "    </tr>\n",
       "    <tr>\n",
       "      <th>3</th>\n",
       "      <td>ABBV</td>\n",
       "      <td>AbbVie</td>\n",
       "      <td>Health Care</td>\n",
       "      <td>Biotechnology</td>\n",
       "      <td>North Chicago, Illinois</td>\n",
       "      <td>0001551152</td>\n",
       "    </tr>\n",
       "    <tr>\n",
       "      <th>4</th>\n",
       "      <td>ACN</td>\n",
       "      <td>Accenture</td>\n",
       "      <td>Information Technology</td>\n",
       "      <td>IT Consulting &amp; Other Services</td>\n",
       "      <td>Dublin, Ireland</td>\n",
       "      <td>0001467373</td>\n",
       "    </tr>\n",
       "  </tbody>\n",
       "</table>\n",
       "</div>"
      ],
      "text/plain": [
       "  Symbol     Security                  Sector                      Sub-Sector  \\\n",
       "0    MMM           3M             Industrials        Industrial Conglomerates   \n",
       "1    AOS  A. O. Smith             Industrials               Building Products   \n",
       "2    ABT       Abbott             Health Care           Health Care Equipment   \n",
       "3   ABBV       AbbVie             Health Care                   Biotechnology   \n",
       "4    ACN    Accenture  Information Technology  IT Consulting & Other Services   \n",
       "\n",
       "               HQ Location         CIK  \n",
       "0    Saint Paul, Minnesota  0000066740  \n",
       "1     Milwaukee, Wisconsin  0000091142  \n",
       "2  North Chicago, Illinois  0000001800  \n",
       "3  North Chicago, Illinois  0001551152  \n",
       "4          Dublin, Ireland  0001467373  "
      ]
     },
     "execution_count": 4,
     "metadata": {},
     "output_type": "execute_result"
    }
   ],
   "source": [
    "SP500.head()"
   ]
  },
  {
   "cell_type": "markdown",
   "metadata": {},
   "source": [
    "### Setting my identity"
   ]
  },
  {
   "cell_type": "code",
   "execution_count": 5,
   "metadata": {},
   "outputs": [
    {
     "data": {
      "text/html": [
       "<pre style=\"white-space:pre;overflow-x:auto;line-height:normal;font-family:Menlo,'DejaVu Sans Mono',consolas,'Courier New',monospace\"><span style=\"color: #7fbfbf; text-decoration-color: #7fbfbf\">[14:57:11] </span><span style=\"color: #000080; text-decoration-color: #000080\">INFO    </span> Identity of the Edgar REST client set to <span style=\"font-weight: bold\">[</span>maseeh faizan maseehfaizan@gmail.com<span style=\"font-weight: bold\">]</span>     <a href=\"file:///Library/Frameworks/Python.framework/Versions/3.12/lib/python3.12/site-packages/edgar/core.py\" target=\"_blank\"><span style=\"color: #7f7f7f; text-decoration-color: #7f7f7f\">core.py</span></a><span style=\"color: #7f7f7f; text-decoration-color: #7f7f7f\">:</span><a href=\"file:///Library/Frameworks/Python.framework/Versions/3.12/lib/python3.12/site-packages/edgar/core.py#154\" target=\"_blank\"><span style=\"color: #7f7f7f; text-decoration-color: #7f7f7f\">154</span></a>\n",
       "</pre>\n"
      ],
      "text/plain": [
       "\u001b[2;36m[14:57:11]\u001b[0m\u001b[2;36m \u001b[0m\u001b[34mINFO    \u001b[0m Identity of the Edgar REST client set to \u001b[1m[\u001b[0mmaseeh faizan maseehfaizan@gmail.com\u001b[1m]\u001b[0m     \u001b]8;id=198822;file:///Library/Frameworks/Python.framework/Versions/3.12/lib/python3.12/site-packages/edgar/core.py\u001b\\\u001b[2mcore.py\u001b[0m\u001b]8;;\u001b\\\u001b[2m:\u001b[0m\u001b]8;id=960436;file:///Library/Frameworks/Python.framework/Versions/3.12/lib/python3.12/site-packages/edgar/core.py#154\u001b\\\u001b[2m154\u001b[0m\u001b]8;;\u001b\\\n"
      ]
     },
     "metadata": {},
     "output_type": "display_data"
    }
   ],
   "source": [
    "set_identity('maseeh faizan maseehfaizan@gmail.com')"
   ]
  },
  {
   "cell_type": "code",
   "execution_count": 6,
   "metadata": {},
   "outputs": [],
   "source": [
    "company = Company('AAPL')"
   ]
  },
  {
   "cell_type": "code",
   "execution_count": 7,
   "metadata": {},
   "outputs": [],
   "source": [
    "filings = company.get_filings(form = '10-K')\n",
    "df = filings.to_pandas()"
   ]
  },
  {
   "cell_type": "code",
   "execution_count": 8,
   "metadata": {},
   "outputs": [
    {
     "data": {
      "text/html": [
       "<pre style=\"white-space:pre;overflow-x:auto;line-height:normal;font-family:Menlo,'DejaVu Sans Mono',consolas,'Courier New',monospace\"></pre>\n"
      ],
      "text/plain": []
     },
     "metadata": {},
     "output_type": "display_data"
    },
    {
     "data": {
      "text/plain": [
       "\u001b[3m                         Balance Sheet                          \u001b[0m\n",
       "                                                                \n",
       " \u001b[1m \u001b[0m\u001b[1m                                          \u001b[0m\u001b[1m \u001b[0m \u001b[1m \u001b[0m\u001b[1m     2023-09-30\u001b[0m\u001b[1m \u001b[0m \n",
       " ━━━━━━━━━━━━━━━━━━━━━━━━━━━━━━━━━━━━━━━━━━━━━━━━━━━━━━━━━━━━━━ \n",
       "  ASSETS:                                                       \n",
       "  CURRENT ASSETS:                                               \n",
       "    Cash and Cash Equivalents                   29,965,000,000  \n",
       "    Other Current Assets                        14,695,000,000  \n",
       " \u001b[1;38;5;39m \u001b[0m\u001b[1;38;5;39m  Current Assets                          \u001b[0m\u001b[1;38;5;39m \u001b[0m \u001b[1;38;5;39m \u001b[0m\u001b[1;38;5;39m143,566,000,000\u001b[0m\u001b[1;38;5;39m \u001b[0m \n",
       "                                                                \n",
       "  NONCURRENT ASSETS:                                            \n",
       "    Marketable Securities                      100,544,000,000  \n",
       "    Property, Plant and Equipment               43,715,000,000  \n",
       "    Other Noncurrent Assets                     64,758,000,000  \n",
       " \u001b[1;38;5;39m \u001b[0m\u001b[1;38;5;39m  Total Noncurrent Assets                 \u001b[0m\u001b[1;38;5;39m \u001b[0m \u001b[1;38;5;39m \u001b[0m\u001b[1;38;5;39m209,017,000,000\u001b[0m\u001b[1;38;5;39m \u001b[0m \n",
       "                                                                \n",
       " \u001b[1;38;5;39m \u001b[0m\u001b[1;38;5;39mTotal Assets                              \u001b[0m\u001b[1;38;5;39m \u001b[0m \u001b[1;38;5;39m \u001b[0m\u001b[1;38;5;39m352,583,000,000\u001b[0m\u001b[1;38;5;39m \u001b[0m \n",
       "                                                                \n",
       "  LIABILITIES AND STOCKHOLDERS' EQUITY:                         \n",
       "  CURRENT LIABILITIES:                                          \n",
       "    Accounts Payable                            62,611,000,000  \n",
       "    Other Current Liabilities                   58,829,000,000  \n",
       "    Deferred Revenue                             8,061,000,000  \n",
       "    Commercial Paper                             5,985,000,000  \n",
       "    Term Debt                                    9,822,000,000  \n",
       " \u001b[1;38;5;39m \u001b[0m\u001b[1;38;5;39m  Total Current Liabilities               \u001b[0m\u001b[1;38;5;39m \u001b[0m \u001b[1;38;5;39m \u001b[0m\u001b[1;38;5;39m145,308,000,000\u001b[0m\u001b[1;38;5;39m \u001b[0m \n",
       "                                                                \n",
       "  NONCURRENT LIABILITIES:                                       \n",
       "    Non-current Long Term Debt                  95,281,000,000  \n",
       "    Other Noncurrent Liabilities                49,848,000,000  \n",
       " \u001b[1;38;5;39m \u001b[0m\u001b[1;38;5;39m  Total Noncurrent Liabilities            \u001b[0m\u001b[1;38;5;39m \u001b[0m \u001b[1;38;5;39m \u001b[0m\u001b[1;38;5;39m145,129,000,000\u001b[0m\u001b[1;38;5;39m \u001b[0m \n",
       "                                                                \n",
       " \u001b[1;38;5;39m \u001b[0m\u001b[1;38;5;39mTotal Liabilities                         \u001b[0m\u001b[1;38;5;39m \u001b[0m \u001b[1;38;5;39m \u001b[0m\u001b[1;38;5;39m290,437,000,000\u001b[0m\u001b[1;38;5;39m \u001b[0m \n",
       "                                                                \n",
       "  STOCKHOLDERS' EQUITY:                                         \n",
       "    Common Stock and paid-in Capital            73,812,000,000  \n",
       "    Retained Earnings                             -214,000,000  \n",
       "    Accumulated Other Comprehensive Income     -11,452,000,000  \n",
       " \u001b[1;38;5;39m \u001b[0m\u001b[1;38;5;39m  Total Stockholders' Equity              \u001b[0m\u001b[1;38;5;39m \u001b[0m \u001b[1;38;5;39m \u001b[0m\u001b[1;38;5;39m 62,146,000,000\u001b[0m\u001b[1;38;5;39m \u001b[0m \n",
       "                                                                \n",
       " \u001b[1;38;5;39m \u001b[0m\u001b[1;38;5;39mTotal Liabilities and Stockholders' Equity\u001b[0m\u001b[1;38;5;39m \u001b[0m \u001b[1;38;5;39m \u001b[0m\u001b[1;38;5;39m352,583,000,000\u001b[0m\u001b[1;38;5;39m \u001b[0m \n",
       "                                                                "
      ]
     },
     "execution_count": 8,
     "metadata": {},
     "output_type": "execute_result"
    }
   ],
   "source": [
    "company.financials.balance_sheet"
   ]
  }
 ],
 "metadata": {
  "kernelspec": {
   "display_name": "Python 3",
   "language": "python",
   "name": "python3"
  },
  "language_info": {
   "codemirror_mode": {
    "name": "ipython",
    "version": 3
   },
   "file_extension": ".py",
   "mimetype": "text/x-python",
   "name": "python",
   "nbconvert_exporter": "python",
   "pygments_lexer": "ipython3",
   "version": "3.12.2"
  }
 },
 "nbformat": 4,
 "nbformat_minor": 2
}
