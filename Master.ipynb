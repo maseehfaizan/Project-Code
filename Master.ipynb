{
 "cells": [
  {
   "cell_type": "code",
   "execution_count": 9,
   "metadata": {},
   "outputs": [],
   "source": [
    "import pandas as pd\n",
    "import numpy as np\n",
    "from edgar import *\n",
    "from bs4 import BeautifulSoup\n",
    "import requests\n",
    "\n",
    "#pyportfolioopt."
   ]
  },
  {
   "cell_type": "markdown",
   "metadata": {},
   "source": [
    "#### I want to scrape all of the list of 500 componies in S&P500 from wikipedia"
   ]
  },
  {
   "cell_type": "code",
   "execution_count": 12,
   "metadata": {},
   "outputs": [],
   "source": [
    "# The URL of the website I am looking for\n",
    "web_url = 'https://en.wikipedia.org/wiki/List_of_S%26P_500_companies'\n",
    "#I want the see the response of the host website so I can use BeautifulSoup package\n",
    "response = requests.get(web_url)\n",
    "#Creating the soup object where I am giving to it the response\n",
    "soup_ob = BeautifulSoup(response.content)\n",
    "#I am collecting all the HTML table data on the wikipedia page \n",
    "#and have noticed that the first table is the one I want\n",
    "data_table = soup_ob.find_all('table','wikitable')[0]\n",
    "# var. all_value contains the rowvalues of the companies\n",
    "all_value = data_table.find_all('tr')"
   ]
  },
  {
   "cell_type": "code",
   "execution_count": 15,
   "metadata": {},
   "outputs": [
    {
     "data": {
      "text/plain": [
       "'3M'"
      ]
     },
     "execution_count": 15,
     "metadata": {},
     "output_type": "execute_result"
    }
   ],
   "source": []
  },
  {
   "cell_type": "code",
   "execution_count": null,
   "metadata": {},
   "outputs": [],
   "source": [
    "\n"
   ]
  },
  {
   "cell_type": "code",
   "execution_count": 3,
   "metadata": {},
   "outputs": [
    {
     "data": {
      "text/html": [
       "<pre style=\"white-space:pre;overflow-x:auto;line-height:normal;font-family:Menlo,'DejaVu Sans Mono',consolas,'Courier New',monospace\"><span style=\"color: #7fbfbf; text-decoration-color: #7fbfbf\">[16:15:15] </span><span style=\"color: #000080; text-decoration-color: #000080\">INFO    </span> Identity of the Edgar REST client set to <span style=\"font-weight: bold\">[</span>Maseeh Faizan maseehfaizan@gmail.com<span style=\"font-weight: bold\">]</span>     <a href=\"file:///Library/Frameworks/Python.framework/Versions/3.12/lib/python3.12/site-packages/edgar/core.py\" target=\"_blank\"><span style=\"color: #7f7f7f; text-decoration-color: #7f7f7f\">core.py</span></a><span style=\"color: #7f7f7f; text-decoration-color: #7f7f7f\">:</span><a href=\"file:///Library/Frameworks/Python.framework/Versions/3.12/lib/python3.12/site-packages/edgar/core.py#155\" target=\"_blank\"><span style=\"color: #7f7f7f; text-decoration-color: #7f7f7f\">155</span></a>\n",
       "</pre>\n"
      ],
      "text/plain": [
       "\u001b[2;36m[16:15:15]\u001b[0m\u001b[2;36m \u001b[0m\u001b[34mINFO    \u001b[0m Identity of the Edgar REST client set to \u001b[1m[\u001b[0mMaseeh Faizan maseehfaizan@gmail.com\u001b[1m]\u001b[0m     \u001b]8;id=660334;file:///Library/Frameworks/Python.framework/Versions/3.12/lib/python3.12/site-packages/edgar/core.py\u001b\\\u001b[2mcore.py\u001b[0m\u001b]8;;\u001b\\\u001b[2m:\u001b[0m\u001b]8;id=640647;file:///Library/Frameworks/Python.framework/Versions/3.12/lib/python3.12/site-packages/edgar/core.py#155\u001b\\\u001b[2m155\u001b[0m\u001b]8;;\u001b\\\n"
      ]
     },
     "metadata": {},
     "output_type": "display_data"
    }
   ],
   "source": [
    "#set my identity for the SEC (First name last name and email)\n",
    "set_identity(\"Maseeh Faizan maseehfaizan@gmail.com\")\n"
   ]
  },
  {
   "cell_type": "code",
   "execution_count": 4,
   "metadata": {},
   "outputs": [],
   "source": []
  },
  {
   "cell_type": "code",
   "execution_count": 6,
   "metadata": {},
   "outputs": [],
   "source": [
    "#filings = Company(\"0000320193\").get_filings(form=\"10-K\").latest(1)\n"
   ]
  },
  {
   "cell_type": "code",
   "execution_count": 8,
   "metadata": {},
   "outputs": [
    {
     "data": {
      "text/html": [
       "<pre style=\"white-space:pre;overflow-x:auto;line-height:normal;font-family:Menlo,'DejaVu Sans Mono',consolas,'Courier New',monospace\"></pre>\n"
      ],
      "text/plain": []
     },
     "metadata": {},
     "output_type": "display_data"
    },
    {
     "data": {
      "text/plain": [
       "╭───────────────────────────────────────── 10-K 📊 filing for Apple Inc. ─────────────────────────────────────────╮\n",
       "│                                                                                                                 │\n",
       "│  \u001b[1m \u001b[0m\u001b[1mAccession Number    \u001b[0m\u001b[1m \u001b[0m \u001b[1m \u001b[0m\u001b[1mFiling Date\u001b[0m\u001b[1m \u001b[0m \u001b[1m \u001b[0m\u001b[1mCompany   \u001b[0m\u001b[1m \u001b[0m \u001b[1m \u001b[0m\u001b[1mCIK   \u001b[0m\u001b[1m \u001b[0m                                                     │\n",
       "│  ──────────────────────────────────────────────────────────                                                     │\n",
       "│  \u001b[1m \u001b[0m\u001b[1m0000320193-23-000106\u001b[0m\u001b[1m \u001b[0m  2023-11-03    Apple Inc.   320193                                                      │\n",
       "│                                                                                                                 │\n",
       "│                                                                                                                 │\n",
       "│  \u001b[1m \u001b[0m\u001b[1mLinks\u001b[0m\u001b[1m: 🏠 Homepage 📄 Primary Document 📜 Full Submission Text                           \u001b[0m\u001b[1m \u001b[0m                    │\n",
       "│  ───────────────────────────────────────────────────────────────────────────────────────────                    │\n",
       "│   🏠 https://sec.gov/Archives/edgar/data/320193/0000320193-23-000106-index.html                                 │\n",
       "│   📄 https://sec.gov/Archives/edgar/data/320193/000032019323000106/aapl-20230930.htm                            │\n",
       "│   📜 https://sec.gov/Archives/edgar/data/320193/000032019323000106/0000320193-23-000106.txt                     │\n",
       "│                                                                                                                 │\n",
       "╰─────────────────────────────────────────────────────────────────────────────────────────────────────────────────╯"
      ]
     },
     "execution_count": 8,
     "metadata": {},
     "output_type": "execute_result"
    }
   ],
   "source": [
    "filings"
   ]
  },
  {
   "cell_type": "code",
   "execution_count": 7,
   "metadata": {},
   "outputs": [],
   "source": [
    "filings.open()"
   ]
  },
  {
   "cell_type": "code",
   "execution_count": null,
   "metadata": {},
   "outputs": [
    {
     "name": "stdout",
     "output_type": "stream",
     "text": [
      "hi\n"
     ]
    }
   ],
   "source": [
    "print('hi')"
   ]
  },
  {
   "cell_type": "code",
   "execution_count": null,
   "metadata": {},
   "outputs": [],
   "source": []
  }
 ],
 "metadata": {
  "kernelspec": {
   "display_name": "Python 3",
   "language": "python",
   "name": "python3"
  },
  "language_info": {
   "codemirror_mode": {
    "name": "ipython",
    "version": 3
   },
   "file_extension": ".py",
   "mimetype": "text/x-python",
   "name": "python",
   "nbconvert_exporter": "python",
   "pygments_lexer": "ipython3",
   "version": "3.12.2"
  }
 },
 "nbformat": 4,
 "nbformat_minor": 2
}
