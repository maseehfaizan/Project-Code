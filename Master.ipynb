{
 "cells": [
  {
   "cell_type": "markdown",
   "metadata": {},
   "source": [
    "# Importing all the necessairy packages and initialising our identity\n",
    "\n",
    "The SEC wants us to tell them who we are in order to process our request."
   ]
  },
  {
   "cell_type": "code",
   "execution_count": 1,
   "metadata": {},
   "outputs": [],
   "source": [
    "import pandas as pd\n",
    "import yfinance as yf\n",
    "import numpy as np\n",
    "import requests\n",
    "import re\n",
    "import matplotlib.pyplot as plt\n",
    "import matplotlib.dates as mdates\n",
    "import seaborn as sns\n",
    "import time\n",
    "import datetime\n",
    "import difflib"
   ]
  },
  {
   "cell_type": "markdown",
   "metadata": {},
   "source": [
    "# This part I want to figure out if I can get the data from the json files of SEC API.\n",
    "\n",
    "https://www.sec.gov/edgar/sec-api-documentation\n",
    "\n",
    "This API is created by the SEC to make finding the data we want much easier. It uses **XBRL** data APIs, starting from 2009 which will give the data some structure. \n",
    "\n",
    "The thing about this API is, that the data is structure in a json file. For Python this means there are a lot of nested dictionaris. So we will need to find the right data, inside the nested environment\n",
    "\n"
   ]
  },
  {
   "cell_type": "code",
   "execution_count": 2,
   "metadata": {},
   "outputs": [],
   "source": [
    "#set my identity for the SEC (First name last name and email)\n",
    "name = \"Maseeh\"\n",
    "surname = \"Faizan\"\n",
    "email = \"maseehfaizan@gmail.com\"\n",
    "headers = {'User-Agent':f'{name} {surname} {email}'}"
   ]
  },
  {
   "cell_type": "markdown",
   "metadata": {},
   "source": [
    "#### First how ever we need to scrape all of the company information like:\n",
    "- Name\n",
    "- Ticker\n",
    "- cik (unique identifier code). cik code needs to be **10 digits with leading zeros**\n",
    "\n",
    "In what follows I will define a pandas dataframe *ticker_df* to have all of the information on the identifier in the same place"
   ]
  },
  {
   "cell_type": "code",
   "execution_count": 3,
   "metadata": {},
   "outputs": [
    {
     "data": {
      "text/html": [
       "<div>\n",
       "<style scoped>\n",
       "    .dataframe tbody tr th:only-of-type {\n",
       "        vertical-align: middle;\n",
       "    }\n",
       "\n",
       "    .dataframe tbody tr th {\n",
       "        vertical-align: top;\n",
       "    }\n",
       "\n",
       "    .dataframe thead th {\n",
       "        text-align: right;\n",
       "    }\n",
       "</style>\n",
       "<table border=\"1\" class=\"dataframe\">\n",
       "  <thead>\n",
       "    <tr style=\"text-align: right;\">\n",
       "      <th></th>\n",
       "      <th>cik</th>\n",
       "      <th>ticker</th>\n",
       "      <th>name</th>\n",
       "    </tr>\n",
       "  </thead>\n",
       "  <tbody>\n",
       "    <tr>\n",
       "      <th>0</th>\n",
       "      <td>0000789019</td>\n",
       "      <td>MSFT</td>\n",
       "      <td>MICROSOFT CORP</td>\n",
       "    </tr>\n",
       "    <tr>\n",
       "      <th>1</th>\n",
       "      <td>0000320193</td>\n",
       "      <td>AAPL</td>\n",
       "      <td>Apple Inc.</td>\n",
       "    </tr>\n",
       "    <tr>\n",
       "      <th>2</th>\n",
       "      <td>0001045810</td>\n",
       "      <td>NVDA</td>\n",
       "      <td>NVIDIA CORP</td>\n",
       "    </tr>\n",
       "    <tr>\n",
       "      <th>3</th>\n",
       "      <td>0001652044</td>\n",
       "      <td>GOOGL</td>\n",
       "      <td>Alphabet Inc.</td>\n",
       "    </tr>\n",
       "    <tr>\n",
       "      <th>4</th>\n",
       "      <td>0001018724</td>\n",
       "      <td>AMZN</td>\n",
       "      <td>AMAZON COM INC</td>\n",
       "    </tr>\n",
       "  </tbody>\n",
       "</table>\n",
       "</div>"
      ],
      "text/plain": [
       "          cik ticker            name\n",
       "0  0000789019   MSFT  MICROSOFT CORP\n",
       "1  0000320193   AAPL      Apple Inc.\n",
       "2  0001045810   NVDA     NVIDIA CORP\n",
       "3  0001652044  GOOGL   Alphabet Inc.\n",
       "4  0001018724   AMZN  AMAZON COM INC"
      ]
     },
     "execution_count": 3,
     "metadata": {},
     "output_type": "execute_result"
    }
   ],
   "source": [
    "ticker = requests.get('https://www.sec.gov/files/company_tickers.json',headers=headers).json()\n",
    "ticker_df = pd.DataFrame.from_dict(ticker,orient='index')\n",
    "ticker_df.rename(columns={'cik_str':'cik','title':'name'},inplace=True)\n",
    "#Filing in the cik code and adding the leading zeros\n",
    "ticker_df['cik'] = ticker_df['cik'].astype(str).str.zfill(10)\n",
    "ticker_df.head()"
   ]
  },
  {
   "cell_type": "markdown",
   "metadata": {},
   "source": [
    "### Now I need to ask for the ticker name and with that will find out the cik name and everything else\n",
    "##### Moreover, I need to add leading zeros making the cik number a total of 10, as suggested in the documentation"
   ]
  },
  {
   "cell_type": "code",
   "execution_count": 4,
   "metadata": {},
   "outputs": [
    {
     "name": "stdout",
     "output_type": "stream",
     "text": [
      "0000320193\n"
     ]
    }
   ],
   "source": [
    "# I need to find the cik code given the company ticker lets take AAPL as an example \n",
    "tic = 'AAPL'\n",
    "cik = ticker_df.loc[ticker_df['ticker'] == tic, 'cik'].iloc[0]\n",
    "print(cik)"
   ]
  },
  {
   "cell_type": "markdown",
   "metadata": {},
   "source": [
    "### First let's get our data given the cik value of the company. \n",
    "\n",
    "- **submission file**, contains all of the meta data \n",
    "Let's see what is in the submission files\n",
    "\n",
    "It apears to be an embeded dictionary with different infrormation.\n",
    "After some random information, like website and category we have filings, and in the key of filings there is an embeded dictionary, in which we will find further information about the accounts we are looking for\n",
    "\n",
    "Let's see what is inside it:\n"
   ]
  },
  {
   "cell_type": "code",
   "execution_count": 5,
   "metadata": {},
   "outputs": [
    {
     "data": {
      "text/plain": [
       "dict_keys(['cik', 'entityType', 'sic', 'sicDescription', 'insiderTransactionForOwnerExists', 'insiderTransactionForIssuerExists', 'name', 'tickers', 'exchanges', 'ein', 'description', 'website', 'investorWebsite', 'category', 'fiscalYearEnd', 'stateOfIncorporation', 'stateOfIncorporationDescription', 'addresses', 'phone', 'flags', 'formerNames', 'filings'])"
      ]
     },
     "execution_count": 5,
     "metadata": {},
     "output_type": "execute_result"
    }
   ],
   "source": [
    "files = requests.get(f'https://data.sec.gov/submissions/CIK{cik}.json',headers=headers).json()\n",
    "files.keys()"
   ]
  },
  {
   "cell_type": "markdown",
   "metadata": {},
   "source": [
    "We fine a column of recent and a column of files and recent. \n",
    "- Files is a dead end. \n",
    "For now I want to look into the recent submissions and try to turn the dictionary into Pandas DataFrame. This contain the file, number the kind of form it is, accessionNumber code. Handy information to move forward with"
   ]
  },
  {
   "cell_type": "code",
   "execution_count": 6,
   "metadata": {},
   "outputs": [
    {
     "data": {
      "text/plain": [
       "dict_keys(['recent', 'files'])"
      ]
     },
     "execution_count": 6,
     "metadata": {},
     "output_type": "execute_result"
    }
   ],
   "source": [
    "files['filings'].keys()"
   ]
  },
  {
   "cell_type": "code",
   "execution_count": 7,
   "metadata": {},
   "outputs": [
    {
     "data": {
      "text/plain": [
       "dict_keys(['accessionNumber', 'filingDate', 'reportDate', 'acceptanceDateTime', 'act', 'form', 'fileNumber', 'filmNumber', 'items', 'size', 'isXBRL', 'isInlineXBRL', 'primaryDocument', 'primaryDocDescription'])"
      ]
     },
     "execution_count": 7,
     "metadata": {},
     "output_type": "execute_result"
    }
   ],
   "source": [
    "files['filings']['recent'].keys()"
   ]
  },
  {
   "cell_type": "markdown",
   "metadata": {},
   "source": [
    "### Here I have all of the forms and I only need the 10Ks for now to find the Balance Sheet and other Financial statemnts. \n",
    "\n",
    "I am taking all the recent submissions and turning it into a **Pandas Dataframe** then I specifically want the **10K** to be used as anual information. \n",
    "\n",
    "I now have information like\n",
    "- 10-K form\n",
    "- filing date\n",
    "- it's primary Document\n",
    "- XBRL information\n"
   ]
  },
  {
   "cell_type": "code",
   "execution_count": 8,
   "metadata": {},
   "outputs": [
    {
     "data": {
      "text/html": [
       "<div>\n",
       "<style scoped>\n",
       "    .dataframe tbody tr th:only-of-type {\n",
       "        vertical-align: middle;\n",
       "    }\n",
       "\n",
       "    .dataframe tbody tr th {\n",
       "        vertical-align: top;\n",
       "    }\n",
       "\n",
       "    .dataframe thead th {\n",
       "        text-align: right;\n",
       "    }\n",
       "</style>\n",
       "<table border=\"1\" class=\"dataframe\">\n",
       "  <thead>\n",
       "    <tr style=\"text-align: right;\">\n",
       "      <th></th>\n",
       "      <th>accessionNumber</th>\n",
       "      <th>filingDate</th>\n",
       "      <th>reportDate</th>\n",
       "      <th>acceptanceDateTime</th>\n",
       "      <th>act</th>\n",
       "      <th>form</th>\n",
       "      <th>fileNumber</th>\n",
       "      <th>filmNumber</th>\n",
       "      <th>items</th>\n",
       "      <th>size</th>\n",
       "      <th>isXBRL</th>\n",
       "      <th>isInlineXBRL</th>\n",
       "      <th>primaryDocument</th>\n",
       "      <th>primaryDocDescription</th>\n",
       "    </tr>\n",
       "  </thead>\n",
       "  <tbody>\n",
       "    <tr>\n",
       "      <th>51</th>\n",
       "      <td>0000320193-23-000106</td>\n",
       "      <td>2023-11-03</td>\n",
       "      <td>2023-09-30</td>\n",
       "      <td>2023-11-02T18:08:27.000Z</td>\n",
       "      <td>34</td>\n",
       "      <td>10-K</td>\n",
       "      <td>001-36743</td>\n",
       "      <td>231373899</td>\n",
       "      <td></td>\n",
       "      <td>9569569</td>\n",
       "      <td>1</td>\n",
       "      <td>1</td>\n",
       "      <td>aapl-20230930.htm</td>\n",
       "      <td>10-K</td>\n",
       "    </tr>\n",
       "    <tr>\n",
       "      <th>129</th>\n",
       "      <td>0000320193-22-000108</td>\n",
       "      <td>2022-10-28</td>\n",
       "      <td>2022-09-24</td>\n",
       "      <td>2022-10-27T18:01:14.000Z</td>\n",
       "      <td>34</td>\n",
       "      <td>10-K</td>\n",
       "      <td>001-36743</td>\n",
       "      <td>221338448</td>\n",
       "      <td></td>\n",
       "      <td>10332356</td>\n",
       "      <td>1</td>\n",
       "      <td>1</td>\n",
       "      <td>aapl-20220924.htm</td>\n",
       "      <td>10-K</td>\n",
       "    </tr>\n",
       "    <tr>\n",
       "      <th>204</th>\n",
       "      <td>0000320193-21-000105</td>\n",
       "      <td>2021-10-29</td>\n",
       "      <td>2021-09-25</td>\n",
       "      <td>2021-10-28T18:04:28.000Z</td>\n",
       "      <td>34</td>\n",
       "      <td>10-K</td>\n",
       "      <td>001-36743</td>\n",
       "      <td>211359752</td>\n",
       "      <td></td>\n",
       "      <td>10502096</td>\n",
       "      <td>1</td>\n",
       "      <td>1</td>\n",
       "      <td>aapl-20210925.htm</td>\n",
       "      <td>10-K</td>\n",
       "    </tr>\n",
       "  </tbody>\n",
       "</table>\n",
       "</div>"
      ],
      "text/plain": [
       "          accessionNumber  filingDate  reportDate        acceptanceDateTime  \\\n",
       "51   0000320193-23-000106  2023-11-03  2023-09-30  2023-11-02T18:08:27.000Z   \n",
       "129  0000320193-22-000108  2022-10-28  2022-09-24  2022-10-27T18:01:14.000Z   \n",
       "204  0000320193-21-000105  2021-10-29  2021-09-25  2021-10-28T18:04:28.000Z   \n",
       "\n",
       "    act  form fileNumber filmNumber items      size  isXBRL  isInlineXBRL  \\\n",
       "51   34  10-K  001-36743  231373899         9569569       1             1   \n",
       "129  34  10-K  001-36743  221338448        10332356       1             1   \n",
       "204  34  10-K  001-36743  211359752        10502096       1             1   \n",
       "\n",
       "       primaryDocument primaryDocDescription  \n",
       "51   aapl-20230930.htm                  10-K  \n",
       "129  aapl-20220924.htm                  10-K  \n",
       "204  aapl-20210925.htm                  10-K  "
      ]
     },
     "execution_count": 8,
     "metadata": {},
     "output_type": "execute_result"
    }
   ],
   "source": [
    "recent_files = pd.DataFrame(files['filings']['recent'])\n",
    "tenk =recent_files[recent_files['form'] == '10-K']\n",
    "tenk.head(3)"
   ]
  },
  {
   "cell_type": "markdown",
   "metadata": {},
   "source": [
    "### Now that I have all this information, I can simply use them to find the kind of data I am actually looking for (Financial information)\n",
    "\n",
    "- I will use the data in the dataframe above and find the company facts that is organised using the **SEC XBRL *API*** \n",
    "\n",
    "Here we have three keys, \n",
    "- cik \n",
    "- company name \n",
    "- facts. \n",
    "\n",
    "Let's look into facts"
   ]
  },
  {
   "cell_type": "code",
   "execution_count": 9,
   "metadata": {},
   "outputs": [
    {
     "data": {
      "text/plain": [
       "dict_keys(['cik', 'entityName', 'facts'])"
      ]
     },
     "execution_count": 9,
     "metadata": {},
     "output_type": "execute_result"
    }
   ],
   "source": [
    "facts = requests.get(f'https://data.sec.gov/api/xbrl/companyfacts/CIK{cik}.json',headers = headers).json()\n",
    "facts.keys()"
   ]
  },
  {
   "cell_type": "markdown",
   "metadata": {},
   "source": [
    "#### In company's facts we have dei code and US-GAAP. In dei we have public shares outstanding data. What we are interested in is us-gaap which has list of all the balance sheed and income statement information"
   ]
  },
  {
   "cell_type": "code",
   "execution_count": 10,
   "metadata": {},
   "outputs": [
    {
     "data": {
      "text/plain": [
       "dict_keys(['dei', 'us-gaap'])"
      ]
     },
     "execution_count": 10,
     "metadata": {},
     "output_type": "execute_result"
    }
   ],
   "source": [
    "facts['facts'].keys()"
   ]
  },
  {
   "cell_type": "code",
   "execution_count": 11,
   "metadata": {},
   "outputs": [
    {
     "data": {
      "text/plain": [
       "dict_keys(['AccountsPayable', 'AccountsPayableCurrent', 'AccountsReceivableNetCurrent', 'AccruedIncomeTaxesCurrent', 'AccruedIncomeTaxesNoncurrent', 'AccruedLiabilities', 'AccruedLiabilitiesCurrent', 'AccruedMarketingCostsCurrent', 'AccumulatedDepreciationDepletionAndAmortizationPropertyPlantAndEquipment', 'AccumulatedOtherComprehensiveIncomeLossAvailableForSaleSecuritiesAdjustmentNetOfTax', 'AccumulatedOtherComprehensiveIncomeLossCumulativeChangesInNetGainLossFromCashFlowHedgesEffectNetOfTax', 'AccumulatedOtherComprehensiveIncomeLossForeignCurrencyTranslationAdjustmentNetOfTax', 'AccumulatedOtherComprehensiveIncomeLossNetOfTax', 'AdjustmentsToAdditionalPaidInCapitalSharebasedCompensationRequisiteServicePeriodRecognitionValue', 'AdjustmentsToAdditionalPaidInCapitalTaxEffectFromShareBasedCompensation', 'AdvertisingExpense', 'AllocatedShareBasedCompensationExpense', 'AllowanceForDoubtfulAccountsReceivableCurrent', 'AmortizationOfIntangibleAssets', 'AntidilutiveSecuritiesExcludedFromComputationOfEarningsPerShareAmount', 'Assets', 'AssetsCurrent', 'AssetsNoncurrent', 'AvailableForSaleDebtSecuritiesAccumulatedGrossUnrealizedGainBeforeTax', 'AvailableForSaleDebtSecuritiesAccumulatedGrossUnrealizedLossBeforeTax', 'AvailableForSaleDebtSecuritiesAmortizedCostBasis', 'AvailableForSaleSecurities', 'AvailableForSaleSecuritiesAccumulatedGrossUnrealizedGainBeforeTax', 'AvailableForSaleSecuritiesAccumulatedGrossUnrealizedLossBeforeTax', 'AvailableForSaleSecuritiesAmortizedCost', 'AvailableForSaleSecuritiesContinuousUnrealizedLossPosition12MonthsOrLongerAccumulatedLoss', 'AvailableForSaleSecuritiesContinuousUnrealizedLossPositionAccumulatedLoss', 'AvailableForSaleSecuritiesContinuousUnrealizedLossPositionFairValue', 'AvailableForSaleSecuritiesContinuousUnrealizedLossPositionLessThan12MonthsAccumulatedLoss', 'AvailableForSaleSecuritiesContinuousUnrealizedLossPositionLessThanTwelveMonthsFairValue', 'AvailableForSaleSecuritiesContinuousUnrealizedLossPositionTwelveMonthsOrLongerFairValue', 'AvailableForSaleSecuritiesCurrent', 'AvailableForSaleSecuritiesDebtMaturitiesRollingAfterYearTenFairValue', 'AvailableForSaleSecuritiesDebtMaturitiesRollingYearSixThroughTenFairValue', 'AvailableForSaleSecuritiesDebtMaturitiesRollingYearTwoThroughFiveFairValue', 'AvailableForSaleSecuritiesDebtMaturitiesSingleMaturityDate', 'AvailableForSaleSecuritiesDebtSecurities', 'AvailableForSaleSecuritiesDebtSecuritiesCurrent', 'AvailableForSaleSecuritiesDebtSecuritiesNoncurrent', 'AvailableForSaleSecuritiesFairValueDisclosure', 'AvailableForSaleSecuritiesGrossUnrealizedLosses1', 'AvailableForSaleSecuritiesNoncurrent', 'AvailableforsaleSecuritiesGrossUnrealizedGain', 'BusinessAcquisitionCostOfAcquiredEntityPurchasePrice', 'BusinessAcquisitionPurchasePriceAllocationAmortizableIntangibleAssets', 'BusinessAcquisitionPurchasePriceAllocationGoodwillAmount', 'BusinessAcquisitionPurchasePriceAllocationLiabilitiesAssumed', 'BusinessCombinationRecognizedIdentifiableAssetsAcquiredAndLiabilitiesAssumedIntangibleAssetsOtherThanGoodwill', 'BusinessCombinationRecognizedIdentifiableAssetsAcquiredAndLiabilitiesAssumedLiabilities', 'CapitalExpendituresIncurredButNotYetPaid', 'CapitalizedComputerSoftwareAdditions', 'CapitalizedComputerSoftwareAmortization', 'Cash', 'CashAndCashEquivalentsAtCarryingValue', 'CashAndCashEquivalentsPeriodIncreaseDecrease', 'CashCashEquivalentsRestrictedCashAndRestrictedCashEquivalents', 'CashCashEquivalentsRestrictedCashAndRestrictedCashEquivalentsPeriodIncreaseDecreaseIncludingExchangeRateEffect', 'CashEquivalentsAtCarryingValue', 'ChangeInUnrealizedGainLossOnFairValueHedgingInstruments', 'CollateralAlreadyPostedAggregateFairValue', 'CommercialPaper', 'CommitmentsAndContingencies', 'CommonStockDividendsPerShareCashPaid', 'CommonStockDividendsPerShareDeclared', 'CommonStockNoParValue', 'CommonStockParOrStatedValuePerShare', 'CommonStockSharesAuthorized', 'CommonStockSharesIssued', 'CommonStockSharesOutstanding', 'CommonStocksIncludingAdditionalPaidInCapital', 'CommonStockValue', 'ComprehensiveIncomeNetOfTax', 'ContractWithCustomerLiability', 'ContractWithCustomerLiabilityCurrent', 'ContractWithCustomerLiabilityRevenueRecognized', 'CostOfGoodsAndServicesSold', 'CostOfGoodsAndServicesSoldDepreciation', 'CostOfReimbursableExpense', 'CumulativeEffectOfInitialAdoptionOfFIN48', 'CumulativeEffectOfInitialAdoptionOfNewAccountingPrinciple', 'CurrentFederalTaxExpenseBenefit', 'CurrentForeignTaxExpenseBenefit', 'CurrentStateAndLocalTaxExpenseBenefit', 'DebtInstrumentCarryingAmount', 'DebtInstrumentUnamortizedDiscount', 'DebtInstrumentUnamortizedDiscountPremiumAndDebtIssuanceCostsNet', 'DebtInstrumentUnamortizedDiscountPremiumNet', 'DebtSecuritiesAvailableForSaleContinuousUnrealizedLossPosition12MonthsOrLonger', 'DebtSecuritiesAvailableForSaleContinuousUnrealizedLossPosition12MonthsOrLongerAccumulatedLoss', 'DebtSecuritiesAvailableForSaleContinuousUnrealizedLossPositionLessThan12Months', 'DebtSecuritiesAvailableForSaleContinuousUnrealizedLossPositionLessThan12MonthsAccumulatedLoss', 'DebtSecuritiesAvailableForSaleUnrealizedLossPosition', 'DebtSecuritiesAvailableForSaleUnrealizedLossPositionAccumulatedLoss', 'DecreaseInUnrecognizedTaxBenefitsIsReasonablyPossible', 'DeferredFederalIncomeTaxExpenseBenefit', 'DeferredForeignIncomeTaxExpenseBenefit', 'DeferredIncomeTaxExpenseBenefit', 'DeferredIncomeTaxLiabilities', 'DeferredIncomeTaxLiabilitiesNet', 'DeferredRevenueCurrent', 'DeferredRevenueNoncurrent', 'DeferredStateAndLocalIncomeTaxExpenseBenefit', 'DeferredTaxAssetsDeferredIncome', 'DeferredTaxAssetsGoodwillAndIntangibleAssets', 'DeferredTaxAssetsGross', 'DeferredTaxAssetsLiabilitiesNet', 'DeferredTaxAssetsLiabilitiesNetCurrent', 'DeferredTaxAssetsNet', 'DeferredTaxAssetsNetCurrent', 'DeferredTaxAssetsOther', 'DeferredTaxAssetsPropertyPlantAndEquipment', 'DeferredTaxAssetsTaxCreditCarryforwards', 'DeferredTaxAssetsTaxCreditCarryforwardsForeign', 'DeferredTaxAssetsTaxCreditCarryforwardsResearch', 'DeferredTaxAssetsTaxDeferredExpenseCompensationAndBenefitsShareBasedCompensationCost', 'DeferredTaxAssetsTaxDeferredExpenseReservesAndAccruals', 'DeferredTaxAssetsUnrealizedLossesOnAvailableforSaleSecuritiesGross', 'DeferredTaxAssetsValuationAllowance', 'DeferredTaxLiabilities', 'DeferredTaxLiabilitiesLeasingArrangements', 'DeferredTaxLiabilitiesNoncurrent', 'DeferredTaxLiabilitiesOther', 'DeferredTaxLiabilitiesOtherComprehensiveIncome', 'DeferredTaxLiabilitiesUndistributedForeignEarnings', 'DeferredTaxLiabilityNotRecognizedAmountOfUnrecognizedDeferredTaxLiabilityUndistributedEarningsOfForeignSubsidiaries', 'DefinedContributionPlanCostRecognized', 'DefinedContributionPlanMaximumAnnualContributionPerEmployeeAmount', 'DefinedContributionPlanMaximumAnnualContributionsPerEmployeeAmount', 'Depreciation', 'DepreciationAmortizationAndAccretionNet', 'DepreciationAndAmortization', 'DepreciationDepletionAndAmortization', 'DerivativeCollateralObligationToReturnCash', 'DerivativeFairValueOfDerivativeNet', 'DerivativeInstrumentsGainLossReclassifiedFromAccumulatedOCIIntoIncomeEffectivePortionNet', 'DerivativeInstrumentsGainLossRecognizedInIncomeIneffectivePortionAndAmountExcludedFromEffectivenessTestingNet', 'DerivativeInstrumentsGainLossRecognizedInOtherComprehensiveIncomeEffectivePortionNet', 'DerivativeInstrumentsNotDesignatedAsHedgingInstrumentsGainLossNet', 'Dividends', 'EarningsPerShareBasic', 'EarningsPerShareDiluted', 'EffectiveIncomeTaxRateContinuingOperations', 'EffectiveIncomeTaxRateReconciliationAtFederalStatutoryIncomeTaxRate', 'EffectiveIncomeTaxRateReconciliationForeignIncomeTaxRateDifferential', 'EffectiveIncomeTaxRateReconciliationShareBasedCompensationExcessTaxBenefitAmount', 'EffectiveIncomeTaxRateReconciliationTaxCutsAndJobsActOf2017Amount', 'EmployeeRelatedLiabilitiesCurrent', 'EmployeeServiceShareBasedCompensationCashFlowEffectCashUsedToSettleAwards', 'EmployeeServiceShareBasedCompensationNonvestedAwardsTotalCompensationCostNotYetRecognized', 'EmployeeServiceShareBasedCompensationNonvestedAwardsTotalCompensationCostNotYetRecognizedPeriodForRecognition', 'EmployeeServiceShareBasedCompensationTaxBenefitFromCompensationExpense', 'EmployeeServiceShareBasedCompensationUnrecognizedCompensationCostsOnNonvestedAwards', 'EmployeeServiceShareBasedCompensationUnrecognizedCompensationCostsOnNonvestedAwardsWeightedAveragePeriodOfRecognition', 'EquitySecuritiesWithoutReadilyDeterminableFairValueAmount', 'ExcessTaxBenefitFromShareBasedCompensationFinancingActivities', 'FairValueAssetsMeasuredOnRecurringBasisCashAndCashEquivalents', 'FairValueAssetsMeasuredOnRecurringBasisDerivativeFinancialInstrumentsAssets', 'FairValueHedgesAtFairValueNet', 'FairValueLiabilitiesMeasuredOnRecurringBasisDerivativeFinancialInstrumentsLiabilities', 'FederalIncomeTaxExpenseBenefitContinuingOperations', 'FinanceLeaseLiability', 'FinanceLeaseLiabilityCurrent', 'FinanceLeaseLiabilityNoncurrent', 'FinanceLeaseLiabilityPaymentsDue', 'FinanceLeaseLiabilityPaymentsDueAfterYearFive', 'FinanceLeaseLiabilityPaymentsDueNextTwelveMonths', 'FinanceLeaseLiabilityPaymentsDueYearFive', 'FinanceLeaseLiabilityPaymentsDueYearFour', 'FinanceLeaseLiabilityPaymentsDueYearThree', 'FinanceLeaseLiabilityPaymentsDueYearTwo', 'FinanceLeaseLiabilityPaymentsRemainderOfFiscalYear', 'FinanceLeaseLiabilityUndiscountedExcessAmount', 'FinanceLeaseRightOfUseAsset', 'FiniteLivedIntangibleAssetsAccumulatedAmortization', 'FiniteLivedIntangibleAssetsAmortizationExpense', 'FiniteLivedIntangibleAssetsAmortizationExpenseAfterYearFive', 'FiniteLivedIntangibleAssetsAmortizationExpenseNextTwelveMonths', 'FiniteLivedIntangibleAssetsAmortizationExpenseYearFive', 'FiniteLivedIntangibleAssetsAmortizationExpenseYearFour', 'FiniteLivedIntangibleAssetsAmortizationExpenseYearThree', 'FiniteLivedIntangibleAssetsAmortizationExpenseYearTwo', 'FiniteLivedIntangibleAssetsGross', 'FiniteLivedIntangibleAssetsNet', 'FiniteLivedIntangibleAssetsUsefulLifeMaximum', 'FiniteLivedIntangibleAssetsUsefulLifeMinimum', 'ForeignCurrencyDerivativeAssetsAtFairValue', 'ForeignCurrencyDerivativeInstrumentsNotDesignatedAsHedgingInstrumentsAssetAtFairValue', 'ForeignCurrencyDerivativeInstrumentsNotDesignatedAsHedgingInstrumentsLiabilityAtFairValue', 'ForeignCurrencyDerivativeLiabilitiesAtFairValue', 'ForeignIncomeTaxExpenseBenefitContinuingOperations', 'FurnitureAndFixturesGross', 'FutureAmortizationExpenseYearFive', 'FutureAmortizationExpenseYearFour', 'FutureAmortizationExpenseYearOne', 'FutureAmortizationExpenseYearThree', 'FutureAmortizationExpenseYearTwo', 'GainLossFromComponentsExcludedFromAssessmentOfFairValueHedgeEffectivenessNet', 'GainLossOnSaleOfPropertyPlantEquipment', 'Goodwill', 'GoodwillAcquiredDuringPeriod', 'GoodwillImpairmentLoss', 'GrossProfit', 'HeldToMaturitySecurities', 'ImpairmentOfIntangibleAssetsExcludingGoodwill', 'ImpairmentOfIntangibleAssetsIndefinitelivedExcludingGoodwill', 'IncomeLossFromContinuingOperationsBeforeIncomeTaxesExtraordinaryItemsNoncontrollingInterest', 'IncomeLossFromContinuingOperationsBeforeIncomeTaxesForeign', 'IncomeLossFromContinuingOperationsBeforeIncomeTaxesMinorityInterestAndIncomeLossFromEquityMethodInvestments', 'IncomeTaxExaminationInterestExpense', 'IncomeTaxExpenseBenefit', 'IncomeTaxesPaidNet', 'IncomeTaxReconciliationDeductionsQualifiedProductionActivities', 'IncomeTaxReconciliationForeignIncomeTaxRateDifferential', 'IncomeTaxReconciliationIncomeTaxExpenseBenefitAtFederalStatutoryIncomeTaxRate', 'IncomeTaxReconciliationNondeductibleExpenseShareBasedCompensationCost', 'IncomeTaxReconciliationOtherAdjustments', 'IncomeTaxReconciliationOtherReconcilingItems', 'IncomeTaxReconciliationStateAndLocalIncomeTaxes', 'IncomeTaxReconciliationTaxContingenciesDomestic', 'IncomeTaxReconciliationTaxCreditsResearch', 'IncomeTaxReconciliationTaxSettlementsDomestic', 'IncreaseDecreaseInAccountsPayable', 'IncreaseDecreaseInAccountsReceivable', 'IncreaseDecreaseInContractWithCustomerLiability', 'IncreaseDecreaseInDeferredRevenue', 'IncreaseDecreaseInInventories', 'IncreaseDecreaseInOtherOperatingAssets', 'IncreaseDecreaseInOtherOperatingLiabilities', 'IncreaseDecreaseInOtherReceivables', 'IndefiniteLivedIntangibleAssetsExcludingGoodwill', 'IntangibleAssetsGrossExcludingGoodwill', 'IntangibleAssetsNetExcludingGoodwill', 'InterestCostsIncurred', 'InterestExpense', 'InterestExpenseDebt', 'InterestPaid', 'InterestPaidNet', 'InventoryFinishedGoodsNetOfReserves', 'InventoryNet', 'InventoryPartsAndComponentsNetOfReserves', 'InvestmentIncomeInterestAndDividend', 'LeaseAndRentalExpense', 'LeaseholdImprovementsGross', 'LesseeOperatingLeaseLiabilityPaymentsDue', 'LesseeOperatingLeaseLiabilityPaymentsDueAfterYearFive', 'LesseeOperatingLeaseLiabilityPaymentsDueNextTwelveMonths', 'LesseeOperatingLeaseLiabilityPaymentsDueYearFive', 'LesseeOperatingLeaseLiabilityPaymentsDueYearFour', 'LesseeOperatingLeaseLiabilityPaymentsDueYearThree', 'LesseeOperatingLeaseLiabilityPaymentsDueYearTwo', 'LesseeOperatingLeaseLiabilityPaymentsRemainderOfFiscalYear', 'LesseeOperatingLeaseLiabilityUndiscountedExcessAmount', 'Liabilities', 'LiabilitiesAndStockholdersEquity', 'LiabilitiesCurrent', 'LiabilitiesNoncurrent', 'LongTermDebt', 'LongTermDebtCurrent', 'LongTermDebtMaturitiesRepaymentsOfPrincipalAfterYearFive', 'LongTermDebtMaturitiesRepaymentsOfPrincipalInNextTwelveMonths', 'LongTermDebtMaturitiesRepaymentsOfPrincipalInYearFive', 'LongTermDebtMaturitiesRepaymentsOfPrincipalInYearFour', 'LongTermDebtMaturitiesRepaymentsOfPrincipalInYearThree', 'LongTermDebtMaturitiesRepaymentsOfPrincipalInYearTwo', 'LongTermDebtMaturitiesRepaymentsOfPrincipalRemainderOfFiscalYear', 'LongTermDebtNoncurrent', 'LongTermPurchaseCommitmentAmount', 'MarketableSecuritiesCurrent', 'MarketableSecuritiesNoncurrent', 'MarketableSecuritiesRealizedGainLoss', 'MarketingExpense', 'NetCashProvidedByUsedInFinancingActivities', 'NetCashProvidedByUsedInFinancingActivitiesContinuingOperations', 'NetCashProvidedByUsedInInvestingActivities', 'NetCashProvidedByUsedInInvestingActivitiesContinuingOperations', 'NetCashProvidedByUsedInOperatingActivities', 'NetCashProvidedByUsedInOperatingActivitiesContinuingOperations', 'NetIncomeLoss', 'NoncurrentAssets', 'NonoperatingIncomeExpense', 'NontradeReceivablesCurrent', 'NotionalAmountOfForeignCurrencyDerivativeInstrumentsNotDesignatedAsHedgingInstruments', 'NumberOfStores', 'OciBeforeReclassificationsBeforeTaxAttributableToParent', 'OperatingExpenses', 'OperatingIncomeLoss', 'OperatingLeaseCost', 'OperatingLeaseLiability', 'OperatingLeaseLiabilityCurrent', 'OperatingLeaseLiabilityNoncurrent', 'OperatingLeasePayments', 'OperatingLeaseRightOfUseAsset', 'OperatingLeasesFutureMinimumPaymentsDue', 'OperatingLeasesFutureMinimumPaymentsDueCurrent', 'OperatingLeasesFutureMinimumPaymentsDueInFiveYears', 'OperatingLeasesFutureMinimumPaymentsDueInFourYears', 'OperatingLeasesFutureMinimumPaymentsDueInThreeYears', 'OperatingLeasesFutureMinimumPaymentsDueInTwoYears', 'OperatingLeasesFutureMinimumPaymentsDueThereafter', 'OperatingLeasesRentExpenseNet', 'OtherAccruedLiabilitiesCurrent', 'OtherAccruedLiabilitiesNoncurrent', 'OtherAssetsCurrent', 'OtherAssetsNoncurrent', 'OtherComprehensiveIncomeAvailableForSaleSecuritiesAdjustmentNetOfTaxPeriodIncreaseDecrease', 'OtherComprehensiveIncomeDerivativesQualifyingAsHedgesNetOfTaxPeriodIncreaseDecrease', 'OtherComprehensiveIncomeForeignCurrencyTransactionAndTranslationAdjustmentNetOfTaxPeriodIncreaseDecrease', 'OtherComprehensiveIncomeLossAvailableForSaleSecuritiesAdjustmentNetOfTax', 'OtherComprehensiveIncomeLossBeforeReclassificationsBeforeTax', 'OtherComprehensiveIncomeLossBeforeReclassificationsNetOfTax', 'OtherComprehensiveIncomeLossCashFlowHedgeGainLossBeforeReclassificationAndTax', 'OtherComprehensiveIncomeLossCashFlowHedgeGainLossReclassificationAfterTax', 'OtherComprehensiveIncomeLossCashFlowHedgeGainLossReclassificationBeforeTax', 'OtherComprehensiveIncomeLossDerivativeExcludedComponentIncreaseDecreaseBeforeAdjustmentsAndTax', 'OtherComprehensiveIncomeLossDerivativesQualifyingAsHedgesNetOfTax', 'OtherComprehensiveIncomeLossForeignCurrencyTransactionAndTranslationAdjustmentNetOfTax', 'OtherComprehensiveIncomeLossForeignCurrencyTranslationAdjustmentTax', 'OtherComprehensiveIncomeLossNetOfTax', 'OtherComprehensiveIncomeLossNetOfTaxPortionAttributableToParent', 'OtherComprehensiveIncomeLossReclassificationAdjustmentForSaleOfSecuritiesIncludedInNetIncomeNetOfTax', 'OtherComprehensiveIncomeLossReclassificationAdjustmentFromAOCIForSaleOfSecuritiesBeforeTax', 'OtherComprehensiveIncomeLossReclassificationAdjustmentFromAOCIForSaleOfSecuritiesNetOfTax', 'OtherComprehensiveIncomeLossReclassificationAdjustmentFromAOCIForSaleOfSecuritiesTax', 'OtherComprehensiveIncomeLossReclassificationAdjustmentFromAOCIOnDerivativesBeforeTax', 'OtherComprehensiveIncomeLossReclassificationAdjustmentFromAOCIOnDerivativesNetOfTax', 'OtherComprehensiveIncomeLossReclassificationAdjustmentFromAOCIOnDerivativesTax', 'OtherComprehensiveIncomeLossReclassificationAdjustmentOnDerivativesIncludedInNetIncomeNetOfTax', 'OtherComprehensiveIncomeLossReclassificationAdjustmentOnDerivativesIncludedInNetIncomeTax', 'OtherComprehensiveIncomeLossTax', 'OtherComprehensiveIncomeLossTaxPortionAttributableToParent1', 'OtherComprehensiveIncomeReclassificationAdjustmentOnDerivativesIncludedInNetIncomeNetOfTax', 'OtherComprehensiveIncomeReclassificationAdjustmentOnDerivativesIncludedInNetIncomeTax', 'OtherComprehensiveIncomeUnrealizedGainLossOnDerivativesArisingDuringPeriodNetOfTax', 'OtherComprehensiveIncomeUnrealizedGainLossOnDerivativesArisingDuringPeriodTax', 'OtherComprehensiveIncomeUnrealizedHoldingGainLossOnSecuritiesArisingDuringPeriodNetOfTax', 'OtherComprehensiveIncomeUnrealizedHoldingGainLossOnSecuritiesArisingDuringPeriodTax', 'OtherDeferredCreditsCurrent', 'OtherLiabilitiesCurrent', 'OtherLiabilitiesNoncurrent', 'OtherNoncashIncomeExpense', 'OtherNonoperatingIncomeExpense', 'OtherPrepaidExpenseCurrent', 'OtherShortTermBorrowings', 'PaymentsForProceedsFromOtherInvestingActivities', 'PaymentsForRepurchaseOfCommonStock', 'PaymentsOfDividends', 'PaymentsOfDividendsCommonStock', 'PaymentsRelatedToTaxWithholdingForShareBasedCompensation', 'PaymentsToAcquireAvailableForSaleSecurities', 'PaymentsToAcquireAvailableForSaleSecuritiesDebt', 'PaymentsToAcquireBusinessesNetOfCashAcquired', 'PaymentsToAcquireIntangibleAssets', 'PaymentsToAcquireOtherInvestments', 'PaymentsToAcquireProductiveAssets', 'PaymentsToAcquirePropertyPlantAndEquipment', 'PreferredStockSharesAuthorized', 'PrepaidExpenseOtherNoncurrent', 'ProceedsFromIssuanceOfCommonStock', 'ProceedsFromIssuanceOfLongTermDebt', 'ProceedsFromMaturitiesPrepaymentsAndCallsOfAvailableForSaleSecurities', 'ProceedsFromOtherShortTermDebt', 'ProceedsFromPaymentsForOtherFinancingActivities', 'ProceedsFromRepaymentsOfCommercialPaper', 'ProceedsFromRepaymentsOfShortTermDebt', 'ProceedsFromRepaymentsOfShortTermDebtMaturingInMoreThanThreeMonths', 'ProceedsFromRepaymentsOfShortTermDebtMaturingInThreeMonthsOrLess', 'ProceedsFromSaleAndMaturityOfOtherInvestments', 'ProceedsFromSaleOfAvailableForSaleSecurities', 'ProceedsFromSaleOfAvailableForSaleSecuritiesDebt', 'ProceedsFromShortTermDebtMaturingInMoreThanThreeMonths', 'ProductWarrantyAccrualClassifiedCurrent', 'ProductWarrantyAccrualPayments', 'ProductWarrantyAccrualWarrantiesIssued', 'ProductWarrantyExpense', 'PropertyPlantAndEquipmentGross', 'PropertyPlantAndEquipmentNet', 'ReclassificationFromAccumulatedOtherComprehensiveIncomeCurrentPeriodBeforeTax', 'ReclassificationFromAccumulatedOtherComprehensiveIncomeCurrentPeriodNetOfTax', 'ReclassificationFromAociCurrentPeriodBeforeTaxAttributableToParent', 'RepaymentsOfLongTermDebt', 'RepaymentsOfOtherShortTermDebt', 'RepaymentsOfShortTermDebtMaturingInMoreThanThreeMonths', 'ResearchAndDevelopmentExpense', 'RestrictedCash', 'RestrictedCashAndCashEquivalentsAtCarryingValue', 'RestrictedCashAndCashEquivalentsNoncurrent', 'RestrictedInvestments', 'RetainedEarningsAccumulatedDeficit', 'RevenueFromContractWithCustomerExcludingAssessedTax', 'Revenues', 'SalesRevenueNet', 'SalesRevenueServicesGross', 'SecuritiesSoldUnderAgreementsToRepurchaseFairValueOfCollateral', 'SegmentReportingInformationOperatingIncomeLoss', 'SegmentReportingReconcilingItemsAssets', 'SegmentReportingSegmentAssets', 'SellingGeneralAndAdministrativeExpense', 'ShareBasedCompensation', 'ShareBasedCompensationArrangementByShareBasedPaymentAwardEquityInstrumentsOtherThanOptionsForfeitedInPeriod', 'ShareBasedCompensationArrangementByShareBasedPaymentAwardEquityInstrumentsOtherThanOptionsForfeitedInPeriodWeightedAverageGrantDateFairValue', 'ShareBasedCompensationArrangementByShareBasedPaymentAwardEquityInstrumentsOtherThanOptionsForfeituresWeightedAverageGrantDateFairValue', 'ShareBasedCompensationArrangementByShareBasedPaymentAwardEquityInstrumentsOtherThanOptionsGrantsInPeriod', 'ShareBasedCompensationArrangementByShareBasedPaymentAwardEquityInstrumentsOtherThanOptionsGrantsInPeriodWeightedAverageGrantDateFairValue', 'ShareBasedCompensationArrangementByShareBasedPaymentAwardEquityInstrumentsOtherThanOptionsNonvestedIntrinsicValue', 'ShareBasedCompensationArrangementByShareBasedPaymentAwardEquityInstrumentsOtherThanOptionsNonvestedNumber', 'ShareBasedCompensationArrangementByShareBasedPaymentAwardEquityInstrumentsOtherThanOptionsNonvestedWeightedAverageGrantDateFairValue', 'ShareBasedCompensationArrangementByShareBasedPaymentAwardEquityInstrumentsOtherThanOptionsVestedInPeriod', 'ShareBasedCompensationArrangementByShareBasedPaymentAwardEquityInstrumentsOtherThanOptionsVestedInPeriodTotalFairValue', 'ShareBasedCompensationArrangementByShareBasedPaymentAwardEquityInstrumentsOtherThanOptionsVestedInPeriodWeightedAverageGrantDateFairValue', 'ShareBasedCompensationArrangementByShareBasedPaymentAwardFairValueAssumptionsExpectedDividendRate', 'ShareBasedCompensationArrangementByShareBasedPaymentAwardFairValueAssumptionsExpectedTerm', 'ShareBasedCompensationArrangementByShareBasedPaymentAwardFairValueAssumptionsRiskFreeInterestRate', 'ShareBasedCompensationArrangementByShareBasedPaymentAwardFairValueAssumptionsWeightedAverageVolatilityRate', 'ShareBasedCompensationArrangementByShareBasedPaymentAwardNumberOfSharesAvailableForGrant', 'ShareBasedCompensationArrangementByShareBasedPaymentAwardOptionsExercisableIntrinsicValue', 'ShareBasedCompensationArrangementByShareBasedPaymentAwardOptionsExercisableNumber', 'ShareBasedCompensationArrangementByShareBasedPaymentAwardOptionsExercisableWeightedAverageExercisePrice', 'ShareBasedCompensationArrangementByShareBasedPaymentAwardOptionsExercisableWeightedAverageRemainingContractualTerm', 'ShareBasedCompensationArrangementByShareBasedPaymentAwardOptionsExercisesInPeriod', 'ShareBasedCompensationArrangementByShareBasedPaymentAwardOptionsExercisesInPeriodTotalIntrinsicValue', 'ShareBasedCompensationArrangementByShareBasedPaymentAwardOptionsExercisesInPeriodWeightedAverageExercisePrice', 'ShareBasedCompensationArrangementByShareBasedPaymentAwardOptionsForfeituresInPeriod', 'ShareBasedCompensationArrangementByShareBasedPaymentAwardOptionsForfeituresInPeriodWeightedAverageExercisePrice', 'ShareBasedCompensationArrangementByShareBasedPaymentAwardOptionsGrantsInPeriod', 'ShareBasedCompensationArrangementByShareBasedPaymentAwardOptionsGrantsInPeriodWeightedAverageExercisePrice', 'ShareBasedCompensationArrangementByShareBasedPaymentAwardOptionsGrantsInPeriodWeightedAverageGrantDateFairValue', 'ShareBasedCompensationArrangementByShareBasedPaymentAwardOptionsOtherIncreasesDecreasesInPeriod', 'ShareBasedCompensationArrangementByShareBasedPaymentAwardOptionsOutstandingIntrinsicValue', 'ShareBasedCompensationArrangementByShareBasedPaymentAwardOptionsOutstandingNumber', 'ShareBasedCompensationArrangementByShareBasedPaymentAwardOptionsOutstandingWeightedAverageExercisePrice', 'ShareBasedCompensationArrangementByShareBasedPaymentAwardOptionsOutstandingWeightedAverageRemainingContractualTerm', 'ShareBasedCompensationArrangementByShareBasedPaymentAwardOptionsVestedAndExpectedToVestOutstandingNumber', 'ShareBasedCompensationArrangementsByShareBasedPaymentAwardOptionsExercisesInPeriodWeightedAverageExercisePrice', 'ShareBasedCompensationArrangementsByShareBasedPaymentAwardOptionsForfeituresInPeriodWeightedAverageExercisePrice', 'ShareBasedCompensationArrangementsByShareBasedPaymentAwardOptionsGrantsInPeriodWeightedAverageExercisePrice', 'SharebasedCompensationArrangementBySharebasedPaymentAwardEquityInstrumentsOtherThanOptionsAggregateIntrinsicValueNonvested', 'SharebasedCompensationArrangementBySharebasedPaymentAwardOptionsExercisableIntrinsicValue1', 'SharebasedCompensationArrangementBySharebasedPaymentAwardOptionsOutstandingWeightedAverageRemainingContractualTerm1', 'SharesPaidForTaxWithholdingForShareBasedCompensation', 'ShortTermDebtWeightedAverageInterestRate', 'SignificantChangeInUnrecognizedTaxBenefitsIsReasonablyPossibleEstimatedRangeOfChangeLowerBound', 'SignificantChangeInUnrecognizedTaxBenefitsIsReasonablyPossibleEstimatedRangeOfChangeUpperBound', 'StandardProductWarrantyAccrual', 'StandardProductWarrantyAccrualPayments', 'StandardProductWarrantyAccrualWarrantiesIssued', 'StateAndLocalIncomeTaxExpenseBenefitContinuingOperations', 'StockholdersEquity', 'StockholdersEquityNoteStockSplitConversionRatio1', 'StockIssuedDuringPeriodSharesStockOptionsExercised', 'StockIssuedDuringPeriodValueAcquisitions', 'StockIssuedDuringPeriodValueShareBasedCompensation', 'StockRepurchasedAndRetiredDuringPeriodShares', 'StockRepurchasedAndRetiredDuringPeriodValue', 'StockRepurchaseProgramAuthorizedAmount', 'StockRepurchaseProgramAuthorizedAmount1', 'TaxAdjustmentsSettlementsAndUnusualProvisions', 'TaxesPayableCurrent', 'TranslationAdjustmentForNetInvestmentHedgeNetOfTax', 'TreasuryStockValueAcquiredCostMethod', 'UndistributedEarningsOfForeignSubsidiaries', 'UnrecognizedTaxBenefits', 'UnrecognizedTaxBenefitsDecreasesResultingFromPriorPeriodTaxPositions', 'UnrecognizedTaxBenefitsDecreasesResultingFromSettlementsWithTaxingAuthorities', 'UnrecognizedTaxBenefitsIncomeTaxPenaltiesAndInterestAccrued', 'UnrecognizedTaxBenefitsIncomeTaxPenaltiesAndInterestExpense', 'UnrecognizedTaxBenefitsIncreasesResultingFromCurrentPeriodTaxPositions', 'UnrecognizedTaxBenefitsIncreasesResultingFromPriorPeriodTaxPositions', 'UnrecognizedTaxBenefitsPeriodIncreaseDecrease', 'UnrecognizedTaxBenefitsReductionsResultingFromLapseOfApplicableStatuteOfLimitations', 'UnrecognizedTaxBenefitsThatWouldImpactEffectiveTaxRate', 'UnrecordedUnconditionalPurchaseObligationBalanceOnFifthAnniversary', 'UnrecordedUnconditionalPurchaseObligationBalanceOnFirstAnniversary', 'UnrecordedUnconditionalPurchaseObligationBalanceOnFourthAnniversary', 'UnrecordedUnconditionalPurchaseObligationBalanceOnSecondAnniversary', 'UnrecordedUnconditionalPurchaseObligationBalanceOnThirdAnniversary', 'UnrecordedUnconditionalPurchaseObligationBalanceSheetAmount', 'UnrecordedUnconditionalPurchaseObligationDueAfterFiveYears', 'VariableLeaseCost', 'WeightedAverageNumberDilutedSharesOutstandingAdjustment', 'WeightedAverageNumberOfDilutedSharesOutstanding', 'WeightedAverageNumberOfSharesOutstandingBasic', 'DeferredTaxAssetsOtherComprehensiveLoss', 'EffectiveIncomeTaxRateReconciliationFdiiAmount', 'DebtSecuritiesAvailableForSaleRestricted', 'InventoryWorkInProcessAndRawMaterialsNetOfReserves', 'UnrecordedUnconditionalPurchaseObligationDueInRemainderOfFiscalYear', 'InventoryRawMaterialsAndPurchasedPartsNetOfReserves', 'HedgedAssetFairValueHedge', 'HedgedLiabilityFairValueHedge', 'DeferredIncomeTaxAssetsNet', 'DeferredTaxLiabilitiesPropertyPlantAndEquipment', 'IncrementalCommonSharesAttributableToShareBasedPaymentArrangements', 'OtherAssetsMiscellaneousNoncurrent'])"
      ]
     },
     "execution_count": 11,
     "metadata": {},
     "output_type": "execute_result"
    }
   ],
   "source": [
    "facts['facts']['us-gaap'].keys()"
   ]
  },
  {
   "cell_type": "markdown",
   "metadata": {},
   "source": [
    "Here I am calling the variable **accounts** the name of the accounts that are at my disposal in the SEC.\n",
    "\n",
    "- I am going to normalize the naming process for both [accounts and names] list. Remove any capital letter, dots or spaces there might be. \n",
    "\n",
    "- I am then going to create a dictionary. The **keys** are the name of the accounts and the **value** will be the name that is present are present in most of the **10K**. There are different accounts and different naming schemes for the same accounts given different countries. My code needs to work for most of the companies. I have gone through dosens of them and have come up with the most common naming schemes.\n",
    "\n",
    "\n",
    "Furthermore, I am also taking the most common accounts, like Assets, Liability, Revenues COGS. These are the accounts we care about the most and these are also accounts that are commun accross different companies.\n",
    "\n",
    "\n",
    "I have shyed away from specific accounts, like Amazon has Fulfillment account, Apple has PPE, but then Pfizer has very different accounts. I can't possibliy account for all those different variation **FOR NOW** "
   ]
  },
  {
   "cell_type": "code",
   "execution_count": 12,
   "metadata": {},
   "outputs": [],
   "source": [
    "\n",
    "accounts = list(facts['facts']['us-gaap'].keys())\n",
    "\n",
    "# Normalize everything down\n",
    "normalized_account = [re.sub(r'\\W+', '',s).lower() for s in accounts]\n",
    "\n",
    "names = {'Assets':['Assets'],\n",
    "        'Current Assets':['assets current'],\n",
    "        'Cash':['Cash and cash equivalents'],\n",
    "        'Current Liability':['Liability current'],\n",
    "        'Total Stockholders equity':['Stockholders Equity'],\n",
    "        'Liability and Stockholder equity':['Liabilities and Stockholders equity'],\n",
    "        'Revenues':['Sales'],\n",
    "        'COGS':['Cost of Goods Sold'],\n",
    "        'Operating Expense':['Total Operating Expense'],\n",
    "        'Net Income':['Net Income'],\n",
    "        'EPS':['Earnings Per Share basic']\n",
    "        }"
   ]
  },
  {
   "cell_type": "markdown",
   "metadata": {},
   "source": [
    "## Before matching both lists [accounts names] \n",
    "I would first need to normalize both, so the mathching process is efficient. Because many companies use different account names, I used **difflib** library to help me find the best match for each account. I have tried it with dosens of account and it is working fine for now. There might be some bugs here and there, for some campanies that the code doesn't account for. For those cases the code needs to be run on a **beta phase** to find those issues and fix them "
   ]
  },
  {
   "cell_type": "code",
   "execution_count": 13,
   "metadata": {},
   "outputs": [
    {
     "data": {
      "text/plain": [
       "{'Assets': 'Assets',\n",
       " 'Current Assets': 'AssetsCurrent',\n",
       " 'Cash': 'CashAndCashEquivalentsAtCarryingValue',\n",
       " 'Current Liability': 'LiabilitiesCurrent',\n",
       " 'Total Stockholders equity': 'StockholdersEquity',\n",
       " 'Liability and Stockholder equity': 'LiabilitiesAndStockholdersEquity',\n",
       " 'Revenues': 'SalesRevenueNet',\n",
       " 'COGS': 'CostOfGoodsAndServicesSold',\n",
       " 'Operating Expense': 'OperatingExpenses',\n",
       " 'Net Income': 'NetIncomeLoss',\n",
       " 'EPS': 'EarningsPerShareBasic'}"
      ]
     },
     "execution_count": 13,
     "metadata": {},
     "output_type": "execute_result"
    }
   ],
   "source": [
    "# find the best match between the names dictionary and the list I have in the accounts\n",
    "def find_best_match(items, search):\n",
    "    matches = difflib.get_close_matches(search, items, n=1, cutoff=0.0)\n",
    "    return matches[0] if matches else None\n",
    "\n",
    "for key, value in names.items():\n",
    "    value = [re.sub(r'\\W+', '',s).lower() for s in value]\n",
    "    best_match = [find_best_match(normalized_account, j) for j in value]\n",
    "    \n",
    "    accounts_match = [find_best_match(accounts, best_match[0])]\n",
    "    names[key] = accounts_match[0]\n",
    "names"
   ]
  },
  {
   "cell_type": "markdown",
   "metadata": {},
   "source": [
    "## Creating financials pandas dataframe that will contain the necessairy information. \n",
    "First I ceate the data frame. I then run through the whole dictinary. The key will be the **name** of the account and the value, that were found using best match will be the information contained in different columns.\n",
    "To comply with SEC documentation I am putting a timer on how many times per second the code can run and ask relative information of different accounts\n",
    "\n",
    "To fetch those information, I need the company **cik** code and the account name, which is the **value** of the account. \n",
    "\n",
    "Furthermore, the unit in Earnings Per Share account is **USD/Share** and not **USD** so I need to take care of that.\n",
    "\n",
    "I also want the financial accounts to take the indices of the most complete account which is the **Assets account** that is why I have **ix** variable set to **0**. When ix != 0 I continue as usual merging accounts together. \n",
    "\n",
    "Finally I want the columns indices to be the years I have at hand, and the row indecis the account names so I transpose those accounts"
   ]
  },
  {
   "cell_type": "code",
   "execution_count": 14,
   "metadata": {},
   "outputs": [],
   "source": [
    "financials = pd.DataFrame(columns=['Year','val'])\n",
    "ix = 0\n",
    "for key,value in names.items():\n",
    "    # To comply with SEC we need to set a timer so the program doesn't request too many items at once\n",
    "    time.sleep(0.12)\n",
    "    name = key\n",
    "    company_concept = requests.get(f'https://data.sec.gov/api/xbrl/companyconcept/CIK{cik}/us-gaap/{value}.json',headers=headers).json()\n",
    "    # the unit for Earning per share is USD/Share and not USD which means I need to adapt the code for that\n",
    "    if key == 'EPS':\n",
    "        name = pd.DataFrame(company_concept['units']['USD/shares'])\n",
    "    else:\n",
    "        name = pd.DataFrame(company_concept['units']['USD'])\n",
    "    name = name[name['form'] == '10-K']\n",
    "    name = name.drop_duplicates(subset='fy',keep='last')\n",
    "    name = name.tail(60)\n",
    "    name = name[['fy','val']]\n",
    "    name = name.rename(columns={'fy':'Year','val':key})\n",
    "    # I want to initialize the balance sheet that is why I need to merge on name, then after I will merge on Balance Sheet dataframe\n",
    "    if ix == 0:\n",
    "        financials = financials.merge(name,left_on='Year',right_on='Year',how='right')\n",
    "        ix +=1\n",
    "    else:\n",
    "        financials = financials.merge(name,left_on='Year',right_on='Year',how='left')\n",
    "\n",
    "financials = financials.drop('val',axis = 1)\n",
    "financials = financials.sort_values(by='Year',ascending=False)\n",
    "financials = financials.set_index('Year')\n",
    "financials = financials.T"
   ]
  },
  {
   "cell_type": "code",
   "execution_count": 15,
   "metadata": {},
   "outputs": [
    {
     "data": {
      "text/html": [
       "<div>\n",
       "<style scoped>\n",
       "    .dataframe tbody tr th:only-of-type {\n",
       "        vertical-align: middle;\n",
       "    }\n",
       "\n",
       "    .dataframe tbody tr th {\n",
       "        vertical-align: top;\n",
       "    }\n",
       "\n",
       "    .dataframe thead th {\n",
       "        text-align: right;\n",
       "    }\n",
       "</style>\n",
       "<table border=\"1\" class=\"dataframe\">\n",
       "  <thead>\n",
       "    <tr style=\"text-align: right;\">\n",
       "      <th>Year</th>\n",
       "      <th>2023</th>\n",
       "      <th>2022</th>\n",
       "      <th>2021</th>\n",
       "      <th>2020</th>\n",
       "      <th>2019</th>\n",
       "      <th>2018</th>\n",
       "      <th>2017</th>\n",
       "      <th>2016</th>\n",
       "      <th>2015</th>\n",
       "      <th>2014</th>\n",
       "      <th>2013</th>\n",
       "      <th>2012</th>\n",
       "      <th>2011</th>\n",
       "      <th>2010</th>\n",
       "      <th>2009</th>\n",
       "    </tr>\n",
       "  </thead>\n",
       "  <tbody>\n",
       "    <tr>\n",
       "      <th>Assets</th>\n",
       "      <td>3.525830e+11</td>\n",
       "      <td>3.527550e+11</td>\n",
       "      <td>3.510020e+11</td>\n",
       "      <td>3.238880e+11</td>\n",
       "      <td>3.385160e+11</td>\n",
       "      <td>3.657250e+11</td>\n",
       "      <td>3.753190e+11</td>\n",
       "      <td>3.216860e+11</td>\n",
       "      <td>2.904790e+11</td>\n",
       "      <td>2.318390e+11</td>\n",
       "      <td>2.070000e+11</td>\n",
       "      <td>1.760640e+11</td>\n",
       "      <td>1.163710e+11</td>\n",
       "      <td>7.518300e+10</td>\n",
       "      <td>5.385100e+10</td>\n",
       "    </tr>\n",
       "    <tr>\n",
       "      <th>Current Assets</th>\n",
       "      <td>1.435660e+11</td>\n",
       "      <td>1.354050e+11</td>\n",
       "      <td>1.348360e+11</td>\n",
       "      <td>1.437130e+11</td>\n",
       "      <td>1.628190e+11</td>\n",
       "      <td>1.313390e+11</td>\n",
       "      <td>1.286450e+11</td>\n",
       "      <td>1.068690e+11</td>\n",
       "      <td>8.937800e+10</td>\n",
       "      <td>6.853100e+10</td>\n",
       "      <td>7.328600e+10</td>\n",
       "      <td>5.765300e+10</td>\n",
       "      <td>4.498800e+10</td>\n",
       "      <td>4.167800e+10</td>\n",
       "      <td>3.626500e+10</td>\n",
       "    </tr>\n",
       "    <tr>\n",
       "      <th>Cash</th>\n",
       "      <td>2.996500e+10</td>\n",
       "      <td>2.364600e+10</td>\n",
       "      <td>3.494000e+10</td>\n",
       "      <td>3.801600e+10</td>\n",
       "      <td>4.884400e+10</td>\n",
       "      <td>2.591300e+10</td>\n",
       "      <td>2.028900e+10</td>\n",
       "      <td>2.048400e+10</td>\n",
       "      <td>2.112000e+10</td>\n",
       "      <td>1.384400e+10</td>\n",
       "      <td>1.425900e+10</td>\n",
       "      <td>1.074600e+10</td>\n",
       "      <td>9.815000e+09</td>\n",
       "      <td>1.126100e+10</td>\n",
       "      <td>5.263000e+09</td>\n",
       "    </tr>\n",
       "  </tbody>\n",
       "</table>\n",
       "</div>"
      ],
      "text/plain": [
       "Year                    2023          2022          2021          2020  \\\n",
       "Assets          3.525830e+11  3.527550e+11  3.510020e+11  3.238880e+11   \n",
       "Current Assets  1.435660e+11  1.354050e+11  1.348360e+11  1.437130e+11   \n",
       "Cash            2.996500e+10  2.364600e+10  3.494000e+10  3.801600e+10   \n",
       "\n",
       "Year                    2019          2018          2017          2016  \\\n",
       "Assets          3.385160e+11  3.657250e+11  3.753190e+11  3.216860e+11   \n",
       "Current Assets  1.628190e+11  1.313390e+11  1.286450e+11  1.068690e+11   \n",
       "Cash            4.884400e+10  2.591300e+10  2.028900e+10  2.048400e+10   \n",
       "\n",
       "Year                    2015          2014          2013          2012  \\\n",
       "Assets          2.904790e+11  2.318390e+11  2.070000e+11  1.760640e+11   \n",
       "Current Assets  8.937800e+10  6.853100e+10  7.328600e+10  5.765300e+10   \n",
       "Cash            2.112000e+10  1.384400e+10  1.425900e+10  1.074600e+10   \n",
       "\n",
       "Year                    2011          2010          2009  \n",
       "Assets          1.163710e+11  7.518300e+10  5.385100e+10  \n",
       "Current Assets  4.498800e+10  4.167800e+10  3.626500e+10  \n",
       "Cash            9.815000e+09  1.126100e+10  5.263000e+09  "
      ]
     },
     "execution_count": 15,
     "metadata": {},
     "output_type": "execute_result"
    }
   ],
   "source": [
    "financials.head(3)"
   ]
  },
  {
   "cell_type": "code",
   "execution_count": 16,
   "metadata": {},
   "outputs": [],
   "source": [
    "income = financials.iloc[6:].transpose()\n",
    "\n",
    "balance = financials.iloc[:6].transpose()\n",
    "\n",
    "\n",
    "income.reset_index(inplace=True)\n",
    "balance.reset_index(inplace=True)"
   ]
  },
  {
   "cell_type": "code",
   "execution_count": 17,
   "metadata": {},
   "outputs": [
    {
     "data": {
      "text/html": [
       "<div>\n",
       "<style scoped>\n",
       "    .dataframe tbody tr th:only-of-type {\n",
       "        vertical-align: middle;\n",
       "    }\n",
       "\n",
       "    .dataframe tbody tr th {\n",
       "        vertical-align: top;\n",
       "    }\n",
       "\n",
       "    .dataframe thead th {\n",
       "        text-align: right;\n",
       "    }\n",
       "</style>\n",
       "<table border=\"1\" class=\"dataframe\">\n",
       "  <thead>\n",
       "    <tr style=\"text-align: right;\">\n",
       "      <th></th>\n",
       "      <th>Year</th>\n",
       "      <th>Assets</th>\n",
       "      <th>Current Assets</th>\n",
       "      <th>Cash</th>\n",
       "      <th>Current Liability</th>\n",
       "      <th>Total Stockholders equity</th>\n",
       "      <th>Liability and Stockholder equity</th>\n",
       "    </tr>\n",
       "  </thead>\n",
       "  <tbody>\n",
       "    <tr>\n",
       "      <th>0</th>\n",
       "      <td>2023</td>\n",
       "      <td>3.525830e+11</td>\n",
       "      <td>1.435660e+11</td>\n",
       "      <td>2.996500e+10</td>\n",
       "      <td>1.453080e+11</td>\n",
       "      <td>6.214600e+10</td>\n",
       "      <td>3.525830e+11</td>\n",
       "    </tr>\n",
       "    <tr>\n",
       "      <th>1</th>\n",
       "      <td>2022</td>\n",
       "      <td>3.527550e+11</td>\n",
       "      <td>1.354050e+11</td>\n",
       "      <td>2.364600e+10</td>\n",
       "      <td>1.539820e+11</td>\n",
       "      <td>5.067200e+10</td>\n",
       "      <td>3.527550e+11</td>\n",
       "    </tr>\n",
       "    <tr>\n",
       "      <th>2</th>\n",
       "      <td>2021</td>\n",
       "      <td>3.510020e+11</td>\n",
       "      <td>1.348360e+11</td>\n",
       "      <td>3.494000e+10</td>\n",
       "      <td>1.254810e+11</td>\n",
       "      <td>6.309000e+10</td>\n",
       "      <td>3.510020e+11</td>\n",
       "    </tr>\n",
       "    <tr>\n",
       "      <th>3</th>\n",
       "      <td>2020</td>\n",
       "      <td>3.238880e+11</td>\n",
       "      <td>1.437130e+11</td>\n",
       "      <td>3.801600e+10</td>\n",
       "      <td>1.053920e+11</td>\n",
       "      <td>6.533900e+10</td>\n",
       "      <td>3.238880e+11</td>\n",
       "    </tr>\n",
       "    <tr>\n",
       "      <th>4</th>\n",
       "      <td>2019</td>\n",
       "      <td>3.385160e+11</td>\n",
       "      <td>1.628190e+11</td>\n",
       "      <td>4.884400e+10</td>\n",
       "      <td>1.057180e+11</td>\n",
       "      <td>9.048800e+10</td>\n",
       "      <td>3.385160e+11</td>\n",
       "    </tr>\n",
       "    <tr>\n",
       "      <th>5</th>\n",
       "      <td>2018</td>\n",
       "      <td>3.657250e+11</td>\n",
       "      <td>1.313390e+11</td>\n",
       "      <td>2.591300e+10</td>\n",
       "      <td>1.168660e+11</td>\n",
       "      <td>1.071470e+11</td>\n",
       "      <td>3.657250e+11</td>\n",
       "    </tr>\n",
       "    <tr>\n",
       "      <th>6</th>\n",
       "      <td>2017</td>\n",
       "      <td>3.753190e+11</td>\n",
       "      <td>1.286450e+11</td>\n",
       "      <td>2.028900e+10</td>\n",
       "      <td>1.008140e+11</td>\n",
       "      <td>1.340470e+11</td>\n",
       "      <td>3.753190e+11</td>\n",
       "    </tr>\n",
       "    <tr>\n",
       "      <th>7</th>\n",
       "      <td>2016</td>\n",
       "      <td>3.216860e+11</td>\n",
       "      <td>1.068690e+11</td>\n",
       "      <td>2.048400e+10</td>\n",
       "      <td>7.900600e+10</td>\n",
       "      <td>1.282490e+11</td>\n",
       "      <td>3.216860e+11</td>\n",
       "    </tr>\n",
       "    <tr>\n",
       "      <th>8</th>\n",
       "      <td>2015</td>\n",
       "      <td>2.904790e+11</td>\n",
       "      <td>8.937800e+10</td>\n",
       "      <td>2.112000e+10</td>\n",
       "      <td>8.061000e+10</td>\n",
       "      <td>1.193550e+11</td>\n",
       "      <td>2.904790e+11</td>\n",
       "    </tr>\n",
       "    <tr>\n",
       "      <th>9</th>\n",
       "      <td>2014</td>\n",
       "      <td>2.318390e+11</td>\n",
       "      <td>6.853100e+10</td>\n",
       "      <td>1.384400e+10</td>\n",
       "      <td>6.344800e+10</td>\n",
       "      <td>1.115470e+11</td>\n",
       "      <td>2.318390e+11</td>\n",
       "    </tr>\n",
       "  </tbody>\n",
       "</table>\n",
       "</div>"
      ],
      "text/plain": [
       "   Year        Assets  Current Assets          Cash  Current Liability  \\\n",
       "0  2023  3.525830e+11    1.435660e+11  2.996500e+10       1.453080e+11   \n",
       "1  2022  3.527550e+11    1.354050e+11  2.364600e+10       1.539820e+11   \n",
       "2  2021  3.510020e+11    1.348360e+11  3.494000e+10       1.254810e+11   \n",
       "3  2020  3.238880e+11    1.437130e+11  3.801600e+10       1.053920e+11   \n",
       "4  2019  3.385160e+11    1.628190e+11  4.884400e+10       1.057180e+11   \n",
       "5  2018  3.657250e+11    1.313390e+11  2.591300e+10       1.168660e+11   \n",
       "6  2017  3.753190e+11    1.286450e+11  2.028900e+10       1.008140e+11   \n",
       "7  2016  3.216860e+11    1.068690e+11  2.048400e+10       7.900600e+10   \n",
       "8  2015  2.904790e+11    8.937800e+10  2.112000e+10       8.061000e+10   \n",
       "9  2014  2.318390e+11    6.853100e+10  1.384400e+10       6.344800e+10   \n",
       "\n",
       "   Total Stockholders equity  Liability and Stockholder equity  \n",
       "0               6.214600e+10                      3.525830e+11  \n",
       "1               5.067200e+10                      3.527550e+11  \n",
       "2               6.309000e+10                      3.510020e+11  \n",
       "3               6.533900e+10                      3.238880e+11  \n",
       "4               9.048800e+10                      3.385160e+11  \n",
       "5               1.071470e+11                      3.657250e+11  \n",
       "6               1.340470e+11                      3.753190e+11  \n",
       "7               1.282490e+11                      3.216860e+11  \n",
       "8               1.193550e+11                      2.904790e+11  \n",
       "9               1.115470e+11                      2.318390e+11  "
      ]
     },
     "execution_count": 17,
     "metadata": {},
     "output_type": "execute_result"
    }
   ],
   "source": [
    "balance.head(10)"
   ]
  },
  {
   "cell_type": "markdown",
   "metadata": {},
   "source": [
    "### Now that I have the financial data from SEC, I will look into Yahoo Finance to find the stock data.\n",
    "\n",
    "To match with Financials data I will download data for the same years as those accounts"
   ]
  },
  {
   "cell_type": "code",
   "execution_count": 29,
   "metadata": {},
   "outputs": [
    {
     "name": "stderr",
     "output_type": "stream",
     "text": [
      "[*********************100%%**********************]  1 of 1 completed\n",
      "[*********************100%%**********************]  1 of 1 completed\n"
     ]
    }
   ],
   "source": [
    "first = financials.columns[0].astype(int)\n",
    "last = financials.columns[-1].astype(int)\n",
    "\n",
    "start=datetime.datetime(last,1,1)\n",
    "end=datetime.datetime(first,12,31)\n",
    "\n",
    "price = yf.download(tic,start,end)\n",
    "market = yf.download('^GSPC',start,end)\n",
    "\n",
    "price.reset_index(inplace=True)\n",
    "market.reset_index(inplace=True)\n",
    "\n",
    "price['Average'] = (price['High'] + price['Low']) / 2\n",
    "price = price[['Date','Average','Volume']]\n",
    "\n",
    "market['Average'] = (market['High'] + market['Low']) / 2\n",
    "market = market[['Date','Average','Volume']]\n",
    "\n",
    "# Convert 'date' to datetime\n",
    "price['Date'] = pd.to_datetime(price['Date'])\n",
    "\n",
    "price = price.rename(columns={'Average':f'{tic} Price','Volume':f'{tic} Volume'})\n",
    "market = market.rename(columns={'Average':'S&P500','Volume':'S&P500 Volume'})\n"
   ]
  },
  {
   "cell_type": "code",
   "execution_count": 30,
   "metadata": {},
   "outputs": [
    {
     "data": {
      "text/html": [
       "<div>\n",
       "<style scoped>\n",
       "    .dataframe tbody tr th:only-of-type {\n",
       "        vertical-align: middle;\n",
       "    }\n",
       "\n",
       "    .dataframe tbody tr th {\n",
       "        vertical-align: top;\n",
       "    }\n",
       "\n",
       "    .dataframe thead th {\n",
       "        text-align: right;\n",
       "    }\n",
       "</style>\n",
       "<table border=\"1\" class=\"dataframe\">\n",
       "  <thead>\n",
       "    <tr style=\"text-align: right;\">\n",
       "      <th></th>\n",
       "      <th>Date</th>\n",
       "      <th>AAPL Price</th>\n",
       "      <th>AAPL Volume</th>\n",
       "    </tr>\n",
       "  </thead>\n",
       "  <tbody>\n",
       "    <tr>\n",
       "      <th>0</th>\n",
       "      <td>2009-01-02</td>\n",
       "      <td>3.146429</td>\n",
       "      <td>746015200</td>\n",
       "    </tr>\n",
       "    <tr>\n",
       "      <th>1</th>\n",
       "      <td>2009-01-05</td>\n",
       "      <td>3.373035</td>\n",
       "      <td>1181608400</td>\n",
       "    </tr>\n",
       "    <tr>\n",
       "      <th>2</th>\n",
       "      <td>2009-01-06</td>\n",
       "      <td>3.385000</td>\n",
       "      <td>1289310400</td>\n",
       "    </tr>\n",
       "    <tr>\n",
       "      <th>3</th>\n",
       "      <td>2009-01-07</td>\n",
       "      <td>3.263571</td>\n",
       "      <td>753048800</td>\n",
       "    </tr>\n",
       "    <tr>\n",
       "      <th>4</th>\n",
       "      <td>2009-01-08</td>\n",
       "      <td>3.271250</td>\n",
       "      <td>673500800</td>\n",
       "    </tr>\n",
       "  </tbody>\n",
       "</table>\n",
       "</div>"
      ],
      "text/plain": [
       "        Date  AAPL Price  AAPL Volume\n",
       "0 2009-01-02    3.146429    746015200\n",
       "1 2009-01-05    3.373035   1181608400\n",
       "2 2009-01-06    3.385000   1289310400\n",
       "3 2009-01-07    3.263571    753048800\n",
       "4 2009-01-08    3.271250    673500800"
      ]
     },
     "execution_count": 30,
     "metadata": {},
     "output_type": "execute_result"
    }
   ],
   "source": [
    "price.head()"
   ]
  },
  {
   "cell_type": "code",
   "execution_count": 31,
   "metadata": {},
   "outputs": [],
   "source": [
    "main = pd.merge(price,market,right_on='Date',left_on='Date',how='inner')\n"
   ]
  },
  {
   "cell_type": "code",
   "execution_count": 33,
   "metadata": {},
   "outputs": [
    {
     "data": {
      "text/html": [
       "<div>\n",
       "<style scoped>\n",
       "    .dataframe tbody tr th:only-of-type {\n",
       "        vertical-align: middle;\n",
       "    }\n",
       "\n",
       "    .dataframe tbody tr th {\n",
       "        vertical-align: top;\n",
       "    }\n",
       "\n",
       "    .dataframe thead th {\n",
       "        text-align: right;\n",
       "    }\n",
       "</style>\n",
       "<table border=\"1\" class=\"dataframe\">\n",
       "  <thead>\n",
       "    <tr style=\"text-align: right;\">\n",
       "      <th></th>\n",
       "      <th>Date</th>\n",
       "      <th>AAPL Price</th>\n",
       "      <th>AAPL Volume</th>\n",
       "      <th>S&amp;P500</th>\n",
       "      <th>S&amp;P500 Volume</th>\n",
       "      <th>AAPL_return</th>\n",
       "    </tr>\n",
       "  </thead>\n",
       "  <tbody>\n",
       "    <tr>\n",
       "      <th>0</th>\n",
       "      <td>2009-01-02</td>\n",
       "      <td>3.146429</td>\n",
       "      <td>746015200</td>\n",
       "      <td>917.039978</td>\n",
       "      <td>4048270000</td>\n",
       "      <td>NaN</td>\n",
       "    </tr>\n",
       "    <tr>\n",
       "      <th>1</th>\n",
       "      <td>2009-01-05</td>\n",
       "      <td>3.373035</td>\n",
       "      <td>1181608400</td>\n",
       "      <td>928.080017</td>\n",
       "      <td>5413910000</td>\n",
       "      <td>7.202017</td>\n",
       "    </tr>\n",
       "    <tr>\n",
       "      <th>2</th>\n",
       "      <td>2009-01-06</td>\n",
       "      <td>3.385000</td>\n",
       "      <td>1289310400</td>\n",
       "      <td>935.565002</td>\n",
       "      <td>5392620000</td>\n",
       "      <td>0.354712</td>\n",
       "    </tr>\n",
       "    <tr>\n",
       "      <th>3</th>\n",
       "      <td>2009-01-07</td>\n",
       "      <td>3.263571</td>\n",
       "      <td>753048800</td>\n",
       "      <td>914.910004</td>\n",
       "      <td>4704940000</td>\n",
       "      <td>-3.587266</td>\n",
       "    </tr>\n",
       "    <tr>\n",
       "      <th>4</th>\n",
       "      <td>2009-01-08</td>\n",
       "      <td>3.271250</td>\n",
       "      <td>673500800</td>\n",
       "      <td>903.404999</td>\n",
       "      <td>4991550000</td>\n",
       "      <td>0.235294</td>\n",
       "    </tr>\n",
       "  </tbody>\n",
       "</table>\n",
       "</div>"
      ],
      "text/plain": [
       "        Date  AAPL Price  AAPL Volume      S&P500  S&P500 Volume  AAPL_return\n",
       "0 2009-01-02    3.146429    746015200  917.039978     4048270000          NaN\n",
       "1 2009-01-05    3.373035   1181608400  928.080017     5413910000     7.202017\n",
       "2 2009-01-06    3.385000   1289310400  935.565002     5392620000     0.354712\n",
       "3 2009-01-07    3.263571    753048800  914.910004     4704940000    -3.587266\n",
       "4 2009-01-08    3.271250    673500800  903.404999     4991550000     0.235294"
      ]
     },
     "execution_count": 33,
     "metadata": {},
     "output_type": "execute_result"
    }
   ],
   "source": [
    "main.head()"
   ]
  },
  {
   "cell_type": "code",
   "execution_count": 35,
   "metadata": {},
   "outputs": [
    {
     "data": {
      "text/html": [
       "<div>\n",
       "<style scoped>\n",
       "    .dataframe tbody tr th:only-of-type {\n",
       "        vertical-align: middle;\n",
       "    }\n",
       "\n",
       "    .dataframe tbody tr th {\n",
       "        vertical-align: top;\n",
       "    }\n",
       "\n",
       "    .dataframe thead th {\n",
       "        text-align: right;\n",
       "    }\n",
       "</style>\n",
       "<table border=\"1\" class=\"dataframe\">\n",
       "  <thead>\n",
       "    <tr style=\"text-align: right;\">\n",
       "      <th></th>\n",
       "      <th>Date</th>\n",
       "      <th>AAPL Price</th>\n",
       "      <th>AAPL Volume</th>\n",
       "      <th>S&amp;P500</th>\n",
       "      <th>S&amp;P500 Volume</th>\n",
       "      <th>AAPL_return</th>\n",
       "      <th>S&amp;P500_return</th>\n",
       "      <th>AAPL_cum_return</th>\n",
       "      <th>S&amp;P500_cum_return</th>\n",
       "    </tr>\n",
       "  </thead>\n",
       "  <tbody>\n",
       "    <tr>\n",
       "      <th>1</th>\n",
       "      <td>2009-01-05</td>\n",
       "      <td>3.373035</td>\n",
       "      <td>1181608400</td>\n",
       "      <td>928.080017</td>\n",
       "      <td>5413910000</td>\n",
       "      <td>7.202017</td>\n",
       "      <td>1.203878</td>\n",
       "      <td>7.202017</td>\n",
       "      <td>1.203878</td>\n",
       "    </tr>\n",
       "    <tr>\n",
       "      <th>2</th>\n",
       "      <td>2009-01-06</td>\n",
       "      <td>3.385000</td>\n",
       "      <td>1289310400</td>\n",
       "      <td>935.565002</td>\n",
       "      <td>5392620000</td>\n",
       "      <td>0.354712</td>\n",
       "      <td>0.806502</td>\n",
       "      <td>7.556729</td>\n",
       "      <td>2.010380</td>\n",
       "    </tr>\n",
       "    <tr>\n",
       "      <th>3</th>\n",
       "      <td>2009-01-07</td>\n",
       "      <td>3.263571</td>\n",
       "      <td>753048800</td>\n",
       "      <td>914.910004</td>\n",
       "      <td>4704940000</td>\n",
       "      <td>-3.587266</td>\n",
       "      <td>-2.207757</td>\n",
       "      <td>3.969463</td>\n",
       "      <td>-0.197377</td>\n",
       "    </tr>\n",
       "    <tr>\n",
       "      <th>4</th>\n",
       "      <td>2009-01-08</td>\n",
       "      <td>3.271250</td>\n",
       "      <td>673500800</td>\n",
       "      <td>903.404999</td>\n",
       "      <td>4991550000</td>\n",
       "      <td>0.235294</td>\n",
       "      <td>-1.257501</td>\n",
       "      <td>4.204757</td>\n",
       "      <td>-1.454878</td>\n",
       "    </tr>\n",
       "    <tr>\n",
       "      <th>5</th>\n",
       "      <td>2009-01-09</td>\n",
       "      <td>3.277143</td>\n",
       "      <td>546845600</td>\n",
       "      <td>900.119995</td>\n",
       "      <td>4716500000</td>\n",
       "      <td>0.180145</td>\n",
       "      <td>-0.363625</td>\n",
       "      <td>4.384902</td>\n",
       "      <td>-1.818503</td>\n",
       "    </tr>\n",
       "  </tbody>\n",
       "</table>\n",
       "</div>"
      ],
      "text/plain": [
       "        Date  AAPL Price  AAPL Volume      S&P500  S&P500 Volume  AAPL_return  \\\n",
       "1 2009-01-05    3.373035   1181608400  928.080017     5413910000     7.202017   \n",
       "2 2009-01-06    3.385000   1289310400  935.565002     5392620000     0.354712   \n",
       "3 2009-01-07    3.263571    753048800  914.910004     4704940000    -3.587266   \n",
       "4 2009-01-08    3.271250    673500800  903.404999     4991550000     0.235294   \n",
       "5 2009-01-09    3.277143    546845600  900.119995     4716500000     0.180145   \n",
       "\n",
       "   S&P500_return  AAPL_cum_return  S&P500_cum_return  \n",
       "1       1.203878         7.202017           1.203878  \n",
       "2       0.806502         7.556729           2.010380  \n",
       "3      -2.207757         3.969463          -0.197377  \n",
       "4      -1.257501         4.204757          -1.454878  \n",
       "5      -0.363625         4.384902          -1.818503  "
      ]
     },
     "execution_count": 35,
     "metadata": {},
     "output_type": "execute_result"
    }
   ],
   "source": [
    "main[f'{tic}_return'] = main[f'{tic} Price'].pct_change()*100\n",
    "main['S&P500_return'] = main['S&P500'].pct_change()*100\n",
    "\n",
    "main[f'{tic}_cum_return'] = main[f'{tic}_return'].cumsum()\n",
    "main['S&P500_cum_return'] = main['S&P500_return'].cumsum()\n",
    "main = main.dropna()\n",
    "main.head()"
   ]
  },
  {
   "cell_type": "code",
   "execution_count": 54,
   "metadata": {},
   "outputs": [
    {
     "data": {
      "image/png": "[encoded data removed]",
      "text/plain": [
       "<Figure size 1200x600 with 1 Axes>"
      ]
     },
     "metadata": {},
     "output_type": "display_data"
    }
   ],
   "source": [
    "fig, axs = plt.subplots(figsize=(12, 6))\n",
    "\n",
    "\n",
    "\n",
    "sns.lineplot(data=main, x='Date', y=f'{tic}_cum_return',label=f'{tic} Cumulative returns', ax=axs,color='red')\n",
    "\n",
    "sns.lineplot(data=main, x='Date', y='S&P500_cum_return',label='S&P500 Cumulative returns', ax=axs, color='blue')\n",
    "axs.spines['top'].set_visible(False)\n",
    "axs.spines['right'].set_visible(False)\n",
    "\n",
    "# Adjust layout\n",
    "plt.title('Cumulative returns')\n",
    "plt.tight_layout()\n",
    "plt.grid(True, which='both', linestyle='--', linewidth=0.5)\n",
    "plt.fill_between(main['Date'], main[f'{tic}_cum_return'].values, main['S&P500_cum_return'].values, color='green', alpha=0.2)\n",
    "plt.show()"
   ]
  },
  {
   "cell_type": "code",
   "execution_count": null,
   "metadata": {},
   "outputs": [
    {
     "name": "stderr",
     "output_type": "stream",
     "text": [
      "/var/folders/3d/sfjwl1qd13g579465zdsgptr0000gn/T/ipykernel_23080/2692178642.py:1: SettingWithCopyWarning: \n",
      "A value is trying to be set on a copy of a slice from a DataFrame.\n",
      "Try using .loc[row_indexer,col_indexer] = value instead\n",
      "\n",
      "See the caveats in the documentation: https://pandas.pydata.org/pandas-docs/stable/user_guide/indexing.html#returning-a-view-versus-a-copy\n",
      "  market['DateNum'] = mdates.date2num(market['Date'])\n"
     ]
    },
    {
     "data": {
      "image/png": "[encoded data removed]",
      "text/plain": [
       "<Figure size 640x480 with 1 Axes>"
      ]
     },
     "metadata": {},
     "output_type": "display_data"
    }
   ],
   "source": [
    "market['DateNum'] = mdates.date2num(market['Date'])\n",
    "price['DateNum'] = mdates.date2num(price['Date'])\n",
    "sns.regplot(x='DateNum', y='Average', data=price)\n",
    "\n",
    "# Set up the plot to interpret the numerical dates\n",
    "plt.gca().xaxis.set_major_locator(mdates.AutoDateLocator())\n",
    "plt.gca().xaxis.set_major_formatter(mdates.DateFormatter('%Y-%m-%d'))\n",
    "\n",
    "# Improve plot appearance\n",
    "plt.gcf().autofmt_xdate()  # Rotate date labels to fit better\n",
    "\n",
    "plt.title('Regression Plot with Date on X-axis')\n",
    "plt.xlabel('Date')\n",
    "plt.ylabel('Value')\n",
    "plt.show()\n"
   ]
  },
  {
   "cell_type": "code",
   "execution_count": null,
   "metadata": {},
   "outputs": [
    {
     "data": {
      "text/plain": [
       "<Axes: xlabel='Year', ylabel='Assets'>"
      ]
     },
     "execution_count": 215,
     "metadata": {},
     "output_type": "execute_result"
    },
    {
     "data": {
      "image/png": "[encoded data removed]",
      "text/plain": [
       "<Figure size 1000x500 with 1 Axes>"
      ]
     },
     "metadata": {},
     "output_type": "display_data"
    }
   ],
   "source": [
    "fig, ax = plt.subplots(figsize=(10,5))\n",
    "\n",
    "sns.lineplot(x='Year', y='Assets', data= balance, ax=ax,\n",
    "             label='Assets', color='blue')"
   ]
  }
 ],
 "metadata": {
  "kernelspec": {
   "display_name": "Python 3 (ipykernel)",
   "language": "python",
   "name": "python3"
  },
  "language_info": {
   "codemirror_mode": {
    "name": "ipython",
    "version": 3
   },
   "file_extension": ".py",
   "mimetype": "text/x-python",
   "name": "python",
   "nbconvert_exporter": "python",
   "pygments_lexer": "ipython3",
   "version": "3.12.2"
  }
 },
 "nbformat": 4,
 "nbformat_minor": 4
}
