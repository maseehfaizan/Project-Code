{
 "cells": [
  {
   "cell_type": "code",
   "execution_count": 1,
   "metadata": {},
   "outputs": [],
   "source": [
    "import pandas as pd\n",
    "import yfinance as yf\n",
    "import numpy as np\n",
    "from edgar import *\n",
    "from bs4 import BeautifulSoup\n",
    "import requests\n",
    "\n",
    "#pyportfolioopt."
   ]
  },
  {
   "cell_type": "markdown",
   "metadata": {},
   "source": [
    "#### I want to scrape all of the list of 500 componies in S&P500 from wikipedia"
   ]
  },
  {
   "cell_type": "code",
   "execution_count": 2,
   "metadata": {},
   "outputs": [],
   "source": [
    "# The URL of the website I am looking for\n",
    "web_url = 'https://en.wikipedia.org/wiki/List_of_S%26P_500_companies'\n",
    "#I want the see the response of the host website so I can use BeautifulSoup package\n",
    "response = requests.get(web_url)\n",
    "#Creating the soup object where I am giving to it the response\n",
    "soup_ob = BeautifulSoup(response.content)\n",
    "#I am collecting all the HTML table data on the wikipedia page \n",
    "#and have noticed that the first table is the one I want\n",
    "data_table = soup_ob.find_all('table','wikitable')[0]\n",
    "# var. all_value contains the rowvalues of the companies\n",
    "all_value = data_table.find_all('tr')"
   ]
  },
  {
   "cell_type": "code",
   "execution_count": 37,
   "metadata": {},
   "outputs": [],
   "source": [
    "SP500 = pd.DataFrame(columns = ['Symbol','Security','Sector','Sub-Sector','HQ Location','CIK'])\n",
    "ix = 0\n",
    "for row in all_value[1:]:\n",
    "    values = row.find_all('td')\n",
    "    Symbol = values[0].text\n",
    "    Security = values[1].text\n",
    "    Sector = values[2].text\n",
    "    Sub_Sector = values[3].text\n",
    "    HQ = values[4].text\n",
    "    CIK = values[6].text\n",
    "    SP500.loc[ix] = [Symbol,Security,Sector,Sub_Sector,HQ,CIK]\n",
    "    ix +=1\n"
   ]
  },
  {
   "cell_type": "code",
   "execution_count": 43,
   "metadata": {},
   "outputs": [],
   "source": [
    "SP500['Symbol'] = SP500['Symbol'].str.replace('\\n','')"
   ]
  },
  {
   "cell_type": "code",
   "execution_count": 51,
   "metadata": {},
   "outputs": [
    {
     "data": {
      "text/html": [
       "<div>\n",
       "<style scoped>\n",
       "    .dataframe tbody tr th:only-of-type {\n",
       "        vertical-align: middle;\n",
       "    }\n",
       "\n",
       "    .dataframe tbody tr th {\n",
       "        vertical-align: top;\n",
       "    }\n",
       "\n",
       "    .dataframe thead th {\n",
       "        text-align: right;\n",
       "    }\n",
       "</style>\n",
       "<table border=\"1\" class=\"dataframe\">\n",
       "  <thead>\n",
       "    <tr style=\"text-align: right;\">\n",
       "      <th></th>\n",
       "      <th>Symbol</th>\n",
       "      <th>Security</th>\n",
       "      <th>Sector</th>\n",
       "      <th>Sub-Sector</th>\n",
       "      <th>HQ Location</th>\n",
       "      <th>CIK</th>\n",
       "    </tr>\n",
       "  </thead>\n",
       "  <tbody>\n",
       "    <tr>\n",
       "      <th>0</th>\n",
       "      <td>MMM</td>\n",
       "      <td>3M</td>\n",
       "      <td>Industrials</td>\n",
       "      <td>Industrial Conglomerates</td>\n",
       "      <td>Saint Paul, Minnesota</td>\n",
       "      <td>0000066740</td>\n",
       "    </tr>\n",
       "    <tr>\n",
       "      <th>1</th>\n",
       "      <td>AOS</td>\n",
       "      <td>A. O. Smith</td>\n",
       "      <td>Industrials</td>\n",
       "      <td>Building Products</td>\n",
       "      <td>Milwaukee, Wisconsin</td>\n",
       "      <td>0000091142</td>\n",
       "    </tr>\n",
       "    <tr>\n",
       "      <th>2</th>\n",
       "      <td>ABT</td>\n",
       "      <td>Abbott</td>\n",
       "      <td>Health Care</td>\n",
       "      <td>Health Care Equipment</td>\n",
       "      <td>North Chicago, Illinois</td>\n",
       "      <td>0000001800</td>\n",
       "    </tr>\n",
       "    <tr>\n",
       "      <th>3</th>\n",
       "      <td>ABBV</td>\n",
       "      <td>AbbVie</td>\n",
       "      <td>Health Care</td>\n",
       "      <td>Biotechnology</td>\n",
       "      <td>North Chicago, Illinois</td>\n",
       "      <td>0001551152</td>\n",
       "    </tr>\n",
       "    <tr>\n",
       "      <th>4</th>\n",
       "      <td>ACN</td>\n",
       "      <td>Accenture</td>\n",
       "      <td>Information Technology</td>\n",
       "      <td>IT Consulting &amp; Other Services</td>\n",
       "      <td>Dublin, Ireland</td>\n",
       "      <td>0001467373</td>\n",
       "    </tr>\n",
       "  </tbody>\n",
       "</table>\n",
       "</div>"
      ],
      "text/plain": [
       "  Symbol     Security                  Sector                      Sub-Sector  \\\n",
       "0    MMM           3M             Industrials        Industrial Conglomerates   \n",
       "1    AOS  A. O. Smith             Industrials               Building Products   \n",
       "2    ABT       Abbott             Health Care           Health Care Equipment   \n",
       "3   ABBV       AbbVie             Health Care                   Biotechnology   \n",
       "4    ACN    Accenture  Information Technology  IT Consulting & Other Services   \n",
       "\n",
       "               HQ Location         CIK  \n",
       "0    Saint Paul, Minnesota  0000066740  \n",
       "1     Milwaukee, Wisconsin  0000091142  \n",
       "2  North Chicago, Illinois  0000001800  \n",
       "3  North Chicago, Illinois  0001551152  \n",
       "4          Dublin, Ireland  0001467373  "
      ]
     },
     "execution_count": 51,
     "metadata": {},
     "output_type": "execute_result"
    }
   ],
   "source": [
    "SP500.head()"
   ]
  },
  {
   "cell_type": "markdown",
   "metadata": {},
   "source": [
    "#### Now I have the list of all of the S&P500 listed companies, their CIK key, Symbol and Security. \n",
    "- I can use the Symbol to download the price data from Yahoo Finance\n",
    "- I can also download SEC fillings using the CIK code. This is possible thanks the Electronic Data Gathering, Analysis, and Retrieval (EDGAR) provided by the SEC\n",
    "- The Sector and Sub-Sector is used to organize the data according to sector if we need any further data."
   ]
  },
  {
   "cell_type": "markdown",
   "metadata": {},
   "source": [
    "In this part I am initializing the EDGAR package, where I need to set my identity to SEC for trancperancy purposes, so I can download the legal documents online. "
   ]
  },
  {
   "cell_type": "code",
   "execution_count": 46,
   "metadata": {},
   "outputs": [
    {
     "data": {
      "text/html": [
       "<pre style=\"white-space:pre;overflow-x:auto;line-height:normal;font-family:Menlo,'DejaVu Sans Mono',consolas,'Courier New',monospace\"><span style=\"color: #7fbfbf; text-decoration-color: #7fbfbf\">[17:57:20] </span><span style=\"color: #000080; text-decoration-color: #000080\">INFO    </span> Identity of the Edgar REST client set to <span style=\"font-weight: bold\">[</span>Maseeh Faizan maseehfaizan@gmail.com<span style=\"font-weight: bold\">]</span>     <a href=\"file:///Library/Frameworks/Python.framework/Versions/3.12/lib/python3.12/site-packages/edgar/core.py\" target=\"_blank\"><span style=\"color: #7f7f7f; text-decoration-color: #7f7f7f\">core.py</span></a><span style=\"color: #7f7f7f; text-decoration-color: #7f7f7f\">:</span><a href=\"file:///Library/Frameworks/Python.framework/Versions/3.12/lib/python3.12/site-packages/edgar/core.py#155\" target=\"_blank\"><span style=\"color: #7f7f7f; text-decoration-color: #7f7f7f\">155</span></a>\n",
       "</pre>\n"
      ],
      "text/plain": [
       "\u001b[2;36m[17:57:20]\u001b[0m\u001b[2;36m \u001b[0m\u001b[34mINFO    \u001b[0m Identity of the Edgar REST client set to \u001b[1m[\u001b[0mMaseeh Faizan maseehfaizan@gmail.com\u001b[1m]\u001b[0m     \u001b]8;id=322601;file:///Library/Frameworks/Python.framework/Versions/3.12/lib/python3.12/site-packages/edgar/core.py\u001b\\\u001b[2mcore.py\u001b[0m\u001b]8;;\u001b\\\u001b[2m:\u001b[0m\u001b]8;id=853318;file:///Library/Frameworks/Python.framework/Versions/3.12/lib/python3.12/site-packages/edgar/core.py#155\u001b\\\u001b[2m155\u001b[0m\u001b]8;;\u001b\\\n"
      ]
     },
     "metadata": {},
     "output_type": "display_data"
    }
   ],
   "source": [
    "#set my identity for the SEC (First name last name and email)\n",
    "name = \"Maseeh\"\n",
    "surname = \"Faizan\"\n",
    "email = \"maseehfaizan@gmail.com\"\n",
    "set_identity(name +' '+ surname+' ' +email)\n"
   ]
  },
  {
   "cell_type": "code",
   "execution_count": 54,
   "metadata": {},
   "outputs": [],
   "source": [
    "Sym = 'AAPL'"
   ]
  },
  {
   "cell_type": "code",
   "execution_count": 55,
   "metadata": {},
   "outputs": [
    {
     "data": {
      "text/plain": [
       "True"
      ]
     },
     "execution_count": 55,
     "metadata": {},
     "output_type": "execute_result"
    }
   ],
   "source": [
    "SP500['Symbol'].isin([Sym]).any()"
   ]
  },
  {
   "cell_type": "code",
   "execution_count": 83,
   "metadata": {},
   "outputs": [
    {
     "name": "stdout",
     "output_type": "stream",
     "text": [
      "<class 'str'>\n"
     ]
    }
   ],
   "source": [
    "#key = SP500.loc[Sym, 'CIK']\n",
    "key = SP500.loc[SP500['Symbol'] == Sym, 'CIK'].iloc[0]\n",
    "print(type(key))\n"
   ]
  },
  {
   "cell_type": "code",
   "execution_count": 88,
   "metadata": {},
   "outputs": [],
   "source": [
    "filings = Company(Sym).get_filings(form=\"10-K\").latest(1)\n"
   ]
  },
  {
   "cell_type": "code",
   "execution_count": null,
   "metadata": {},
   "outputs": [],
   "source": [
    "filings.open()"
   ]
  },
  {
   "cell_type": "code",
   "execution_count": null,
   "metadata": {},
   "outputs": [],
   "source": [
    "filings.open()"
   ]
  },
  {
   "cell_type": "code",
   "execution_count": null,
   "metadata": {},
   "outputs": [
    {
     "name": "stdout",
     "output_type": "stream",
     "text": [
      "hi\n"
     ]
    }
   ],
   "source": [
    "print('hi')"
   ]
  },
  {
   "cell_type": "code",
   "execution_count": null,
   "metadata": {},
   "outputs": [],
   "source": []
  }
 ],
 "metadata": {
  "kernelspec": {
   "display_name": "Python 3",
   "language": "python",
   "name": "python3"
  },
  "language_info": {
   "codemirror_mode": {
    "name": "ipython",
    "version": 3
   },
   "file_extension": ".py",
   "mimetype": "text/x-python",
   "name": "python",
   "nbconvert_exporter": "python",
   "pygments_lexer": "ipython3",
   "version": "3.12.2"
  }
 },
 "nbformat": 4,
 "nbformat_minor": 2
}
